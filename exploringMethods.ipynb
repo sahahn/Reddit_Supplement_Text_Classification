{
 "cells": [
  {
   "cell_type": "markdown",
   "metadata": {},
   "source": [
    "Sage Hahn\n",
    "\n",
    "Data Science Final Project\n",
    "\n",
    "'Exploring a range of different methods', In this file I complete the bulk on my exploratory data analysis in answering my research question.\n",
    "\n",
    "\n",
    "For my approach, it is important to try it on already established problems. The first is a very common one in text processing, using the twenty news groups datatset, imported from sklearn. I will first establish a baseline accuracy by just going through and implimenting a binary test classifier on this dataset.\n",
    "\n",
    "This baseline example is adpted from http://scikit-learn.org/stable/tutorial/text_analytics/working_with_text_data.html"
   ]
  },
  {
   "cell_type": "code",
   "execution_count": 1,
   "metadata": {
    "collapsed": true
   },
   "outputs": [],
   "source": [
    "#Imports\n",
    "from sklearn.datasets import fetch_20newsgroups\n",
    "from sklearn.linear_model import SGDClassifier\n",
    "import numpy as np\n",
    "from sklearn.pipeline import Pipeline\n",
    "from sklearn.feature_extraction.text import TfidfTransformer\n",
    "from sklearn.feature_extraction.text import CountVectorizer\n",
    "from sklearn.decomposition import TruncatedSVD\n",
    "from sklearn.model_selection import GridSearchCV\n",
    "from sklearn import metrics\n",
    "import matplotlib.pyplot as plt\n",
    "import numpy as np\n",
    "import random\n",
    "from random import shuffle\n",
    "import pickle\n",
    "import nltk\n",
    "from nltk.stem.snowball import SnowballStemmer\n",
    "import collections"
   ]
  },
  {
   "cell_type": "code",
   "execution_count": 2,
   "metadata": {
    "collapsed": true
   },
   "outputs": [],
   "source": [
    "#Define all of the functions I will be using throughout, defined in the order they are used\n",
    "\n",
    "def create_test_labels(class_num, test_target):\n",
    "    '''This function creates the test labels given a valid class between 0-19 for the\n",
    "    Twenty news dataset, and returns them as an array'''\n",
    "    y_test = []\n",
    "    \n",
    "    for test_entry in test_target:\n",
    "        if (test_entry == class_num):\n",
    "            y_test.append(1)\n",
    "        else:\n",
    "            y_test.append(0)\n",
    "            \n",
    "    return y_test\n",
    "\n",
    "def create_train_set(class_num, ratio, train_data, train_target):\n",
    "    '''This function creates the training set data and labels, \n",
    "       and needs to bw given the train and test data'''\n",
    "    X_train = []\n",
    "    y_train = []\n",
    "\n",
    "    data = zip(train_data, train_target)\n",
    "\n",
    "    #First add just all instances of the class\n",
    "    for entry, label in data:\n",
    "        if (label == class_num):\n",
    "            X_train.append(entry)\n",
    "            y_train.append(1)\n",
    "\n",
    "    #Now add the rest of the classes according to the ratio\n",
    "    amount = len(X_train) * ratio\n",
    "    count = 0\n",
    "\n",
    "    data = zip(train_data, train_target)\n",
    "\n",
    "    #Next we will randomly add from the remaining test data by adding the correct ratio of not class X\n",
    "    for entry, label in data:\n",
    "        if count < amount:\n",
    "            if (label != class_num):\n",
    "                X_train.append(entry)\n",
    "                y_train.append(0)\n",
    "\n",
    "                count += 1\n",
    "                \n",
    "    return X_train, y_train\n",
    "\n",
    "def get_metrics(text_clf, X_train, X_test, y_train, y_test):\n",
    "    '''This function returns various metrics, and assumes global variable twenty_test.data.\n",
    "       Returns the f1 score, which is a measure of precision and recall'''\n",
    "    \n",
    "    #Now fit and classify\n",
    "    text_clf.fit(X_train, y_train)\n",
    "    predicted = text_clf.predict(X_test)\n",
    "    \n",
    "    f1 = metrics.f1_score(y_test, predicted)\n",
    "    precision = metrics.precision_score(y_test, predicted)\n",
    "    recall = metrics.recall_score(y_test, predicted)\n",
    "    \n",
    "    return f1, precision, recall\n",
    "\n",
    "def get_average_f1_ratios(text_clf):\n",
    "    '''This function recieves a classifer as an input, and iterates over all\n",
    "       possible different classes, getting the average f1, precision and recall scores over\n",
    "       the different possible ratios of training data. It returns the averages, as three arrays.'''\n",
    "    \n",
    "    #Init the ratios list w/ a 0 at first, to make the ratios index align with the ratio\n",
    "    f1_ratios = [0]\n",
    "    precision_ratios = [0]\n",
    "    recall_ratios = [0]\n",
    "    \n",
    "    #Run for ratios 1-10\n",
    "    for ratio in range(1,11):\n",
    "        \n",
    "        #Take the average F1 score for each class\n",
    "        f1_total = 0\n",
    "        precision_total = 0\n",
    "        recall_total = 0\n",
    "        \n",
    "        #For each class,\n",
    "        for cl in range(20):\n",
    "            y_test = create_test_labels(cl, twenty_test.target)\n",
    "            X_train, y_train = create_train_set(cl, ratio, twenty_train.data, twenty_train.target)\n",
    "            \n",
    "            #Get the metrics\n",
    "            f1, precision, recall = get_metrics(text_clf, X_train, twenty_test.data, y_train, y_test)\n",
    "    \n",
    "            #Compute the total\n",
    "            f1_total += f1\n",
    "            precision_total += precision\n",
    "            recall_total += recall\n",
    "        \n",
    "        #Compute the average, and add to the respective array\n",
    "        f1_ratios.append(f1_total / 20)\n",
    "        precision_ratios.append(precision_total / 20)\n",
    "        recall_ratios.append(recall_total / 20)\n",
    "        \n",
    "        print(\"At step: \", ratio)\n",
    "        \n",
    "    return f1_ratios, precision_ratios, recall_ratios\n",
    "\n",
    "def preproc(source):\n",
    "    '''preproc is used to preprocess the twenty newsgroup data to\n",
    "       conform with the rest of the data used'''\n",
    "    \n",
    "    #The output array\n",
    "    dest = []\n",
    "    \n",
    "    for entry in source:\n",
    "\n",
    "        words = nltk.word_tokenize(entry.lower()) #Convert to lowercase\n",
    "\n",
    "        ent = \"\"\n",
    "\n",
    "        #Stem each word, and re add to entry\n",
    "        for word in words:\n",
    "            word = stemmer.stem(word)\n",
    "\n",
    "            ent = ent + \" \" + word\n",
    "\n",
    "        dest.append(ent)\n",
    "        \n",
    "    return dest\n",
    "\n",
    "def createCorpus(read_paths):\n",
    "    '''Create a corpus, takes in a series of read paths, joins them together,\n",
    "       and returns the results as a corpus of text documents '''\n",
    "    \n",
    "    corpus = []\n",
    "    posts = []\n",
    "    \n",
    "    #For each file to load, load the pkl array, and add it to corpus\n",
    "    for path in read_paths:\n",
    "        with open(path, 'rb') as fp:\n",
    "            posts = pickle.load(fp)\n",
    "\n",
    "        #add that file to the corpus\n",
    "        corpus = corpus + posts\n",
    "    \n",
    "    return corpus\n",
    "\n",
    "def createQuickTrainingData(subject_keys, ratio):\n",
    "    '''Creates a quick classifier from key words, though it assumes corpus is defined,\n",
    "       and returns X,y where X is the training data and y are the labels. As input it takes\n",
    "       subject keywords, and a training ratio- this is used a helper function to quickly test a method\n",
    "       of augmenting data'''\n",
    "\n",
    "    #Store instances here\n",
    "    lines_with_key = []\n",
    "    \n",
    "    #For each line in the corpus, only add if not already present\n",
    "    for line in corpus:\n",
    "\n",
    "        found = False\n",
    "        for key in subject_keys:\n",
    "            if (key in line) and (not found):\n",
    "                lines_with_key.append(line)\n",
    "                found = True\n",
    "\n",
    "    y = []\n",
    "\n",
    "    for line in lines_with_key:\n",
    "        y.append(1)\n",
    "\n",
    "    #Add a random number of items based on the ratio given\n",
    "    rand_items = random.sample(corpus, (len(lines_with_key)*ratio))\n",
    "    \n",
    "    X = lines_with_key + rand_items\n",
    "\n",
    "    #If not the desired class, label as 0\n",
    "    for line in lines_with_key:\n",
    "        for num in range(ratio):\n",
    "            y.append(0)\n",
    "            \n",
    "    return X, y\n",
    "\n",
    "def GridSearch(loss_functions, n_grams, max_features_options, ratio_range, word_keys):\n",
    "    '''My version of GridSearch returning f1 score, precision and recall,\n",
    "       given different loss_functions, n_gram settings, options for max_features, and ratios'''\n",
    "    \n",
    "    #I will store the results in a weird way, results will hold a 2d lists, 1d with the scores, 1d with the label info\n",
    "    results = []\n",
    "\n",
    "    #For updates on progress\n",
    "    r = 0\n",
    "    final_r = ((ratio_range[1]-ratio_range[0]) * len(loss_functions) * len(n_grams) * len(max_features_options))\n",
    "\n",
    "    #2-7 should be enough\n",
    "    for ratio in range(ratio_range[0],ratio_range[1]):\n",
    "        \n",
    "        X, y = createQuickTrainingData(word_keys, ratio)\n",
    "\n",
    "        #For each different classifier option\n",
    "        for loss_f in loss_functions:\n",
    "            for gram in n_grams:\n",
    "                for feat in max_features_options:\n",
    "                    \n",
    "                    #Define the clasifier based on the different parameters\n",
    "                    text_clf = Pipeline([('vect', CountVectorizer(ngram_range=gram, max_features=feat)),('tfidf', TfidfTransformer()),\n",
    "                             ('clf', SGDClassifier(loss=loss_f, penalty='l2', alpha=1e-3,\n",
    "                               random_state=22, max_iter=5))])\n",
    "\n",
    "                    label = [ratio, loss_f, gram, feat]\n",
    "\n",
    "                    #Add to the weird 2d list the score + label\n",
    "                    results.append([get_metrics(text_clf, X, X_test, y, y_test), label])\n",
    "\n",
    "                    r += 1\n",
    "\n",
    "                    #Print progress updates\n",
    "                    if (r % 25 == 0):\n",
    "                        print(r, \"/\", final_r)\n",
    "                        \n",
    "    return results\n",
    "\n",
    "def printF1(results):\n",
    "    '''Sorts the results by f1 score, and print out the top 10, and bottom 5,\n",
    "       lastly, return the bestF1 score'''\n",
    "    \n",
    "    sorted_results = sorted(results,key=lambda x: (x[0][0]), reverse=True)\n",
    "\n",
    "    bestF1 = sorted_results[0][0][0]\n",
    "    \n",
    "    print(\"Top 10\")\n",
    "    for line in sorted_results[:10]:\n",
    "        print(\"f1 score: \", line[0][0], \"for\", line[1])\n",
    "\n",
    "    print(\"Bottom 5\")\n",
    "    for line in sorted_results[-5:]:\n",
    "        print(\"f1 score: \", line[0][0], \"for\", line[1])\n",
    "        \n",
    "        \n",
    "    return bestF1\n",
    "\n",
    "def get_N_Gram_Count(sentence_list, n):\n",
    "    '''Given a list of sentences, and an int n, returns a Counter, with \n",
    "       counts for the all possible n-gram's in the sentence_list '''\n",
    "    \n",
    "    #Define the counter\n",
    "    cnt = collections.Counter()\n",
    "    \n",
    "    \n",
    "    for line in sentence_list:\n",
    "        words = nltk.word_tokenize(line)\n",
    "    \n",
    "        for i in range(len(words) - n):\n",
    "            \n",
    "            word = \"\"\n",
    "\n",
    "            #Create the n gram\n",
    "            for c in range(n):\n",
    "                word = word + \" \" + words[i+c]\n",
    "\n",
    "            #Add the count\n",
    "            cnt[word] += 1\n",
    "\n",
    "    #return the counter\n",
    "    return cnt\n",
    "\n",
    "def ModifiedGridSearch(loss_functions, n_grams, max_features_options, ratio_range, class_num, class_keys):\n",
    "    '''modfied version of GridSearch from above, returning f1 score, precision and recall,\n",
    "       given different loss_functions, n_gram settings, options for max_features, and ratios.'''\n",
    "    #I will store the results in a weird way, results will hold a 2d lists, 1d with the scores, 1d with the label info\n",
    "    results = []\n",
    "\n",
    "    #For updates on progress\n",
    "    r = 0\n",
    "    final_r = ((ratio_range[1]-ratio_range[0]) * len(loss_functions) * len(n_grams) * len(max_features_options))\n",
    "    \n",
    "    #Create y_test\n",
    "    y_test = create_test_labels(class_num, twenty_test.target)\n",
    "\n",
    "    for ratio in range(ratio_range[0],ratio_range[1]):\n",
    "        \n",
    "        X = []\n",
    "        y = []\n",
    "        \n",
    "        #Get the X and y train based on the ratio\n",
    "        X_train, y_train = create_train_set(class_num, ratio, twenty_train_data_proc, twenty_train.target)\n",
    "        \n",
    "        X, y = createQuickTrainingData(class_keys, ratio)\n",
    "        X = X + X_train\n",
    "        y = y + y_train\n",
    "\n",
    "        #For each different classifier option\n",
    "        for loss_f in loss_functions:\n",
    "            for gram in n_grams:\n",
    "                for feat in max_features_options:\n",
    "\n",
    "                    text_clf = Pipeline([('vect', CountVectorizer(ngram_range=gram, max_features=feat)),('tfidf', TfidfTransformer()),\n",
    "                             ('clf', SGDClassifier(loss=loss_f, penalty='l2', alpha=1e-3,\n",
    "                               random_state=22, max_iter=5))])\n",
    "\n",
    "\n",
    "                    label = [ratio, loss_f, gram, feat]\n",
    "\n",
    "                    #Add to the weird 2d list the score + label\n",
    "                    results.append([get_metrics(text_clf, X, X_test, y, y_test), label])\n",
    "\n",
    "                    r += 1\n",
    "\n",
    "                    #Print progress updates\n",
    "                    if (r % 25 == 0):\n",
    "                        print(r, \"/\", final_r)\n",
    "                        \n",
    "    return results\n",
    "\n",
    "\n",
    "def getKeyWords(class_num, ratio):\n",
    "    '''Given a class number and a ratio, print out the most common 1,2 n grams,\n",
    "       this is used as a helper function in helping a user generate key words'''\n",
    "    \n",
    "    X_train = []\n",
    "    y_train = []\n",
    "    \n",
    "    #Redfine X_train and y_test\n",
    "    y_test = create_test_labels(class_num, twenty_test.target)\n",
    "    X_train, y_train = create_train_set(class_num, ratio, twenty_train_data_proc, twenty_train.target)\n",
    "    \n",
    "    train_data = zip (X_train, y_train)\n",
    "\n",
    "    #Init class_x and and not_class_x arrays\n",
    "    class_X = []\n",
    "    not_class_X = []\n",
    "\n",
    "    for line,label in train_data:\n",
    "        if (label == 1):\n",
    "            class_X.append(line)\n",
    "        else:\n",
    "            not_class_X.append(line)\n",
    "    \n",
    "    #Print out which class this is for\n",
    "    print(twenty_train.target_names[class_num])\n",
    "    \n",
    "    #For 1,2 grams print out the most common, that are the least common in not class x\n",
    "    for i in range(1,3):\n",
    "        cnt_class_X = get_N_Gram_Count(class_X, i)\n",
    "        cnt_not_class_X = get_N_Gram_Count(not_class_X, i)\n",
    "\n",
    "        cnt_class_X.subtract(cnt_not_class_X)\n",
    "\n",
    "        print(\"N gram =\", i)\n",
    "        print(cnt_class_X.most_common(10))\n",
    "\n",
    "def printPR(results):\n",
    "    '''Sorts the results by preicison instead, and print out the top 10'''\n",
    "    sorted_results = sorted(results,key=lambda x: (x[0][1]), reverse=True)\n",
    "\n",
    "    print(\"Top 10\")\n",
    "    for line in sorted_results[:10]:\n",
    "        print(\"prescision score: \", line[0][1], \"for\", line[1], \"recall: \", line[0][2])\n"
   ]
  },
  {
   "cell_type": "code",
   "execution_count": 3,
   "metadata": {
    "collapsed": true
   },
   "outputs": [],
   "source": [
    "#Declae the stemmer\n",
    "stemmer = SnowballStemmer(\"english\", ignore_stopwords=True)"
   ]
  },
  {
   "cell_type": "code",
   "execution_count": 4,
   "metadata": {
    "collapsed": true
   },
   "outputs": [],
   "source": [
    "#Load the dataset from sklearn\n",
    "twenty_train = fetch_20newsgroups(subset='train', shuffle ='true')\n",
    "twenty_test = fetch_20newsgroups(subset='test', shuffle ='true')"
   ]
  },
  {
   "cell_type": "code",
   "execution_count": 5,
   "metadata": {},
   "outputs": [
    {
     "name": "stdout",
     "output_type": "stream",
     "text": [
      "11314\n",
      "7532\n"
     ]
    }
   ],
   "source": [
    "#Confirm the length of the train and test datasets\n",
    "print(len(twenty_train.data))\n",
    "print(len(twenty_test.data))"
   ]
  },
  {
   "cell_type": "code",
   "execution_count": 6,
   "metadata": {},
   "outputs": [
    {
     "data": {
      "text/plain": [
       "array([7, 4, 4, ..., 3, 1, 8])"
      ]
     },
     "execution_count": 6,
     "metadata": {},
     "output_type": "execute_result"
    }
   ],
   "source": [
    "#There are as the name suggests twenty different categories for this dataset\n",
    "twenty_train.target"
   ]
  },
  {
   "cell_type": "markdown",
   "metadata": {},
   "source": [
    "I will start with the code directly from sklearns page for my baseline, just with modified huber instead in this exploration."
   ]
  },
  {
   "cell_type": "code",
   "execution_count": 7,
   "metadata": {
    "collapsed": true
   },
   "outputs": [],
   "source": [
    "text_clf = Pipeline([('vect', CountVectorizer()),('tfidf', TfidfTransformer()),\n",
    "                     ('clf', SGDClassifier(loss='modified_huber', penalty='l2', alpha=1e-3,\n",
    "                       random_state=42, max_iter=5, tol=None))])"
   ]
  },
  {
   "cell_type": "markdown",
   "metadata": {},
   "source": [
    "It is important to note though, my problem is defined slightly differently then the baseline sklearn example, namely I am only intrested in tested is this chunk of writing a part of class X or not, a binary question. It is therefore neccisarry for me to create a modified dataset before fitting and testing."
   ]
  },
  {
   "cell_type": "code",
   "execution_count": 8,
   "metadata": {
    "collapsed": true
   },
   "outputs": [],
   "source": [
    "#To create a modified dataset,\n",
    "y_train = []\n",
    "y_test = []\n",
    "\n",
    "#Go through testing this approach, by changing class 0 to be 1, otherwise change to 0\n",
    "for train_entry in twenty_train.target:\n",
    "    if (train_entry == 0):\n",
    "        y_train.append(1)\n",
    "    else:\n",
    "        y_train.append(0)\n",
    "        \n",
    "for test_entry in twenty_test.target:\n",
    "    if (test_entry == 0):\n",
    "        y_test.append(1)\n",
    "    else:\n",
    "        y_test.append(0)"
   ]
  },
  {
   "cell_type": "markdown",
   "metadata": {},
   "source": [
    "I for initial testing, create a modified y_train and y_test where all instances of class 0 becomes class 1, and everything else becomes class 0, turning the problem into one of binary classification."
   ]
  },
  {
   "cell_type": "code",
   "execution_count": 9,
   "metadata": {},
   "outputs": [
    {
     "data": {
      "text/plain": [
       "Pipeline(memory=None,\n",
       "     steps=[('vect', CountVectorizer(analyzer='word', binary=False, decode_error='strict',\n",
       "        dtype=<class 'numpy.int64'>, encoding='utf-8', input='content',\n",
       "        lowercase=True, max_df=1.0, max_features=None, min_df=1,\n",
       "        ngram_range=(1, 1), preprocessor=None, stop_words=None,\n",
       "        strip...ty='l2', power_t=0.5, random_state=42,\n",
       "       shuffle=True, tol=None, verbose=0, warm_start=False))])"
      ]
     },
     "execution_count": 9,
     "metadata": {},
     "output_type": "execute_result"
    }
   ],
   "source": [
    "text_clf.fit(twenty_train.data, y_train)"
   ]
  },
  {
   "cell_type": "code",
   "execution_count": 10,
   "metadata": {},
   "outputs": [
    {
     "data": {
      "text/plain": [
       "0.96893255443441317"
      ]
     },
     "execution_count": 10,
     "metadata": {},
     "output_type": "execute_result"
    }
   ],
   "source": [
    "#Now lets run our prediction on the test data and see how we do\n",
    "predicted = text_clf.predict(twenty_test.data)\n",
    "np.mean(predicted == y_test) "
   ]
  },
  {
   "cell_type": "markdown",
   "metadata": {},
   "source": [
    "Alright that seems like a pretty good result, though we are going to want to take a closer look, as the mean could be misleading. "
   ]
  },
  {
   "cell_type": "code",
   "execution_count": 11,
   "metadata": {},
   "outputs": [
    {
     "name": "stdout",
     "output_type": "stream",
     "text": [
      "             precision    recall  f1-score   support\n",
      "\n",
      "          0       0.97      1.00      0.98      7213\n",
      "          1       0.91      0.29      0.45       319\n",
      "\n",
      "avg / total       0.97      0.97      0.96      7532\n",
      "\n"
     ]
    },
    {
     "data": {
      "text/plain": [
       "array([[7204,    9],\n",
       "       [ 225,   94]])"
      ]
     },
     "execution_count": 11,
     "metadata": {},
     "output_type": "execute_result"
    }
   ],
   "source": [
    "#Print out both the metric report, and the confusion matrix\n",
    "print(metrics.classification_report(y_test, predicted))\n",
    "metrics.confusion_matrix(y_test, predicted)"
   ]
  },
  {
   "cell_type": "markdown",
   "metadata": {},
   "source": [
    "Alright so as expected, what this classifier does is gets a good score by labelling almost everything as not class X. This can be seen in the recall score of .07... which is quite bad. So in essence, of the 319 instances of class 0, 297 were predicted wrong, and only 22 were right. What the classifier did well though, is only predicted 2 instances incorrectly.\n",
    "\n",
    "Let's now see if we can get better results by training the model with less instances of not class X. "
   ]
  },
  {
   "cell_type": "code",
   "execution_count": 12,
   "metadata": {
    "collapsed": true
   },
   "outputs": [],
   "source": [
    "X_train = []\n",
    "y_train = []\n",
    "\n",
    "data = zip(twenty_train.data, twenty_train.target)\n",
    "\n",
    "#First add just all instances of the class\n",
    "for entry, label in data:\n",
    "    if (label == 0):\n",
    "        X_train.append(entry)\n",
    "        y_train.append(1)"
   ]
  },
  {
   "cell_type": "code",
   "execution_count": 13,
   "metadata": {},
   "outputs": [
    {
     "data": {
      "text/plain": [
       "480"
      ]
     },
     "execution_count": 13,
     "metadata": {},
     "output_type": "execute_result"
    }
   ],
   "source": [
    "#Check how large this class is\n",
    "len(X_train)"
   ]
  },
  {
   "cell_type": "code",
   "execution_count": 14,
   "metadata": {},
   "outputs": [
    {
     "data": {
      "text/plain": [
       "2400"
      ]
     },
     "execution_count": 14,
     "metadata": {},
     "output_type": "execute_result"
    }
   ],
   "source": [
    "#Now test the approach with a ratio of say 4\n",
    "amount = len(X_train) * 4\n",
    "count = 0\n",
    "\n",
    "data = zip(twenty_train.data, twenty_train.target)\n",
    "\n",
    "#Next we will randomly add from the remaining test data by adding the first len(X_train * 4)\n",
    "for entry, label in data:\n",
    "    if count < amount:\n",
    "        if (label != 0):\n",
    "            X_train.append(entry)\n",
    "            y_train.append(0)\n",
    "            \n",
    "            count += 1\n",
    "            \n",
    "len(X_train)"
   ]
  },
  {
   "cell_type": "code",
   "execution_count": 15,
   "metadata": {},
   "outputs": [
    {
     "name": "stdout",
     "output_type": "stream",
     "text": [
      "0.976633032395\n",
      "             precision    recall  f1-score   support\n",
      "\n",
      "          0       0.99      0.99      0.99      7213\n",
      "          1       0.73      0.71      0.72       319\n",
      "\n",
      "avg / total       0.98      0.98      0.98      7532\n",
      "\n",
      "[[7131   82]\n",
      " [  94  225]]\n"
     ]
    }
   ],
   "source": [
    "#Now fit and classify\n",
    "text_clf.fit(X_train, y_train)\n",
    "\n",
    "predicted = text_clf.predict(twenty_test.data)\n",
    "print(np.mean(predicted == y_test))\n",
    "print(metrics.classification_report(y_test, predicted))\n",
    "print(metrics.confusion_matrix(y_test, predicted))"
   ]
  },
  {
   "cell_type": "markdown",
   "metadata": {},
   "source": [
    "Alright, this is starting to look a lot better. We will now use the helper functions create_test_labels, and create_train_set, as we have gone manually through the steps and see that it works."
   ]
  },
  {
   "cell_type": "code",
   "execution_count": 16,
   "metadata": {},
   "outputs": [
    {
     "name": "stdout",
     "output_type": "stream",
     "text": [
      "(0.71884984025559118, 0.73289902280130292, 0.70532915360501569)\n"
     ]
    }
   ],
   "source": [
    "#A quick test of the functions, on class 1 this time, and a ratio of 5\n",
    "y_test = create_test_labels(0, twenty_test.target)\n",
    "X_train, y_train = create_train_set(0, 4, twenty_train.data, twenty_train.target)\n",
    "print(get_metrics(text_clf, X_train, twenty_test.data, y_train, y_test))"
   ]
  },
  {
   "cell_type": "markdown",
   "metadata": {},
   "source": [
    "As the most important metric at this point is the precision and recall score of class X, I set up the function get_metrics to return the f1 score, which gets at both of those metrics, as well as oth individually. Before changing the classifier, I want to first take a look at whats going on between the relationship between precision and recall as the training data ratio changes.\n",
    "\n",
    "Additionally, I set up a function earlier that calculates the average F1 score over every class, for each possible ratio, with an option to change the text classifier, we will now run that function."
   ]
  },
  {
   "cell_type": "code",
   "execution_count": 17,
   "metadata": {},
   "outputs": [
    {
     "name": "stdout",
     "output_type": "stream",
     "text": [
      "At step:  1\n",
      "At step:  2\n",
      "At step:  3\n",
      "At step:  4\n",
      "At step:  5\n",
      "At step:  6\n",
      "At step:  7\n",
      "At step:  8\n",
      "At step:  9\n",
      "At step:  10\n"
     ]
    }
   ],
   "source": [
    "#Run the function,\n",
    "f1_ratios, precision_ratios, recall_ratios = get_average_f1_ratios(text_clf)"
   ]
  },
  {
   "cell_type": "markdown",
   "metadata": {},
   "source": [
    "Notably this process is fairly intensive to run, which means it most likely won't be practical to re-run in full as we move onto the next step of refining/redefining the classifier used. Hopefully though, what running this more intesive search will provide is a usable ratio to use for the remainder of the expiriment. We are of course then operating under the assumption that the results will not change too dramatically over different classifiers. It should be also noted that I restricted the search to ratios 1-10, as that covers all reasonable cases, as well as the maximum ratio becomes unpredicatable around 13-14 when it will trigger out of bound errors. \n",
    "\n",
    "Now, we will plot the results to give an idea of what is going on."
   ]
  },
  {
   "cell_type": "code",
   "execution_count": 18,
   "metadata": {},
   "outputs": [
    {
     "data": {
      "image/png": "[encoded data removed]",
      "text/plain": [
       "<matplotlib.figure.Figure at 0x7f9c2a868550>"
      ]
     },
     "metadata": {},
     "output_type": "display_data"
    }
   ],
   "source": [
    "#First plot the f1 ratios\n",
    "plt.plot(f1_ratios, label='F1')\n",
    "plt.plot(precision_ratios, label='Precision')\n",
    "plt.plot(recall_ratios, label='Recall')\n",
    "\n",
    "\n",
    "title = \"Avg. F1, precision and recall score over training data ratio\"\n",
    "plt.title(title)\n",
    "plt.xlabel(\"Data Ratio\", fontsize=14)\n",
    "plt.ylabel(\"Score\", fontsize=14)\n",
    "\n",
    "plt.legend(prop={'size': 12})\n",
    "\n",
    "plt.tick_params(labelsize=14) \n",
    "plt.show()"
   ]
  },
  {
   "cell_type": "markdown",
   "metadata": {},
   "source": [
    "As the graph above shows, it appears a ratio of around 2 provides us with the best F1 score. The graph also contains other information though, like the recall spike at ratio 1, and precision continuing to increase as ratio falls.\n",
    "\n",
    "Lets look again the pipeline as defined now\n",
    "\n",
    "text_clf = Pipeline([('vect', CountVectorizer()),('tfidf', TfidfTransformer()),\n",
    "                     ('clf', SGDClassifier(loss='hinge', penalty='l2', alpha=1e-3,\n",
    "                       random_state=42, max_iter=5, tol=None))])\n",
    "                       \n",
    "We can test using a grid search to see if we can find better parameters, though this is also very intensive, so we won't attempt to run it on the range of different classes and ratios."
   ]
  },
  {
   "cell_type": "code",
   "execution_count": 19,
   "metadata": {
    "collapsed": true
   },
   "outputs": [],
   "source": [
    "#Try the following different parameter options\n",
    "parameters = {'vect__ngram_range': [(1, 1), (1, 2)],\n",
    "               'tfidf__use_idf': (True, False),\n",
    "               'clf__alpha': (1e-2, 1e-3)}\n",
    "\n",
    "#Define the grid search classifier\n",
    "gs_clf = GridSearchCV(text_clf, parameters, n_jobs=-1)"
   ]
  },
  {
   "cell_type": "markdown",
   "metadata": {},
   "source": [
    "Now we can test this on say class 0."
   ]
  },
  {
   "cell_type": "code",
   "execution_count": 20,
   "metadata": {
    "collapsed": true
   },
   "outputs": [],
   "source": [
    "y_test = create_test_labels(0, twenty_test.target)\n",
    "X_train, y_train = create_train_set(1, 2, twenty_train.data, twenty_train.target)\n",
    "\n",
    "gs_clf = gs_clf.fit(X_train, y_train)"
   ]
  },
  {
   "cell_type": "code",
   "execution_count": 21,
   "metadata": {},
   "outputs": [
    {
     "data": {
      "text/plain": [
       "(0.0023474178403755869, 0.001876172607879925, 0.003134796238244514)"
      ]
     },
     "execution_count": 21,
     "metadata": {},
     "output_type": "execute_result"
    }
   ],
   "source": [
    "get_metrics(gs_clf, X_train, twenty_test.data, y_train, y_test)"
   ]
  },
  {
   "cell_type": "markdown",
   "metadata": {},
   "source": [
    "Well something looks very off there... in any case grid search in our case doesn't even represent the best solution in terms of F1 score, so it is safe to default to the previously defined classifier. \n",
    "\n",
    "Note: When I tried using a custom defined metric of F1 score, sklearn would give me strange errors, so I define my own grid search togive more control."
   ]
  },
  {
   "cell_type": "code",
   "execution_count": 22,
   "metadata": {
    "collapsed": true
   },
   "outputs": [],
   "source": [
    "#I'm just gonna redefine our initial pipeline as it worked well\n",
    "text_clf = Pipeline([('vect', CountVectorizer()),('tfidf', TfidfTransformer()),\n",
    "                     ('clf', SGDClassifier(loss='modified_huber', penalty='l2', alpha=1e-3,\n",
    "                       random_state=42, max_iter=5, tol=None))])"
   ]
  },
  {
   "cell_type": "markdown",
   "metadata": {
    "collapsed": true
   },
   "source": [
    "I've switched back to the previous pipeline, since the results were good. That being said, the last thing I would like to try is taking a look at the twenty news dataset under the same preproccessing steps as the rest of the data, to see what type of an effect this has. Note: after considering turning the newsgroup data into discrete sentences, I decided it would be better to not. The reason being, the label extends over the whole 500 word chunk rather then each sentence, so it would therefore label a lot of the sentences that were not about the subject as about the subject."
   ]
  },
  {
   "cell_type": "code",
   "execution_count": 23,
   "metadata": {
    "collapsed": true
   },
   "outputs": [],
   "source": [
    "#Call the preproc function to create a preprocessed version of each\n",
    "twenty_train_data_proc = preproc(twenty_train.data)\n",
    "twenty_test_data_proc = preproc(twenty_test.data)"
   ]
  },
  {
   "cell_type": "code",
   "execution_count": 24,
   "metadata": {},
   "outputs": [
    {
     "name": "stdout",
     "output_type": "stream",
     "text": [
      "(0.733652312599681, 0.74675324675324672, 0.72100313479623823)\n"
     ]
    }
   ],
   "source": [
    "#And lets now run the test from earlier again, but with the processed data\n",
    "y_test = create_test_labels(0, twenty_test.target)\n",
    "X_train, y_train = create_train_set(0, 4, twenty_train_data_proc, twenty_train.target)\n",
    "print(get_metrics(text_clf, X_train, twenty_test_data_proc, y_train, y_test))"
   ]
  },
  {
   "cell_type": "markdown",
   "metadata": {},
   "source": [
    "Compare the results above, to (0.71884984025559118, 0.73289902280130292, 0.70532915360501569),\n",
    "Where the first number is the F1 score, the second is precision and the third is recall. So after running the pre-proc steps, the performance actually increased a little bit, not much, but a little. \n",
    "\n",
    "Now with a baseline metric of performance established we ar e ready to test using unlabelled data in a few different ways.\n",
    "\n",
    "The options are:\n",
    "1. From scratch, using just keyword searches to build the initial training set.\n",
    "2. From scratch, by training a simple classifier.\n",
    "3. As a supplement to a supervised learning problem, using keywords from labelled data.\n",
    "4. As a supplement to a supervised learning problem, using a modified classifier.\n",
    "\n",
    "I will proceed through testing exploring each option in turn. Starting with number 1, it is fairly ambigious where to begin, and as the problem is defined we are quite unlikely to get results better then our baseline. This is to be expected though, as the intended role of option 1 is not to preform better then a supervised learning problem, but merely to preform better then just a keyword search. Since that is the case, metrics for this option, and for number 2 for that matter, should be evaluated with the training set, as well as the test set, and in comparison to a comprable key word search."
   ]
  },
  {
   "cell_type": "markdown",
   "metadata": {},
   "source": [
    "To begin lets choose a subject, say class 1, comp.graphics"
   ]
  },
  {
   "cell_type": "code",
   "execution_count": 25,
   "metadata": {},
   "outputs": [
    {
     "name": "stdout",
     "output_type": "stream",
     "text": [
      "Subject:,  comp.graphics\n",
      "From: jgreen@amber (Joe Green)\n",
      "Subject: Re: Weitek P9000 ?\n",
      "Organization: Harris Computer Systems Division\n",
      "Lines: 14\n",
      "Distribution: world\n",
      "NNTP-Posting-Host: amber.ssd.csd.harris.com\n",
      "X-Newsreader: TIN [version 1.1 PL9]\n",
      "\n",
      "Robert J.C. Kyanko (rob@rjck.UUCP) wrote:\n",
      "> abraxis@iastate.edu writes in article <abraxis.734340159@class1.iastate.edu>:\n",
      "> > Anyone know about the Weitek P9000 graphics chip?\n",
      "> As far as the low-level stuff goes, it looks pretty nice.  It's got this\n",
      "> quadrilateral fill command that requires just the four points.\n",
      "\n",
      "Do you have Weitek's address/phone number?  I'd like to get some information\n",
      "about this chip.\n",
      "\n",
      "--\n",
      "Joe Green\t\t\t\tHarris Corporation\n",
      "jgreen@csd.harris.com\t\t\tComputer Systems Division\n",
      "\"The only thing that really scares me is a person with no sense of humor.\"\n",
      "\t\t\t\t\t\t-- Jonathan Winters\n",
      "\n",
      "From: ab@nova.cc.purdue.edu (Allen B)\n",
      "Subject: Re: TIFF: philosophical significance of 42\n",
      "Organization: Purdue University\n",
      "Lines: 39\n",
      "\n",
      "In article <prestonm.735400848@cs.man.ac.uk> prestonm@cs.man.ac.uk (Martin  \n",
      "Preston) writes:\n",
      "> Why not use the PD C library for reading/writing TIFF files? It took me a\n",
      "> good 20 minutes to start using them in your own app.\n",
      "\n",
      "I certainly do use it whenever I have to do TIFF, and it usually works\n",
      "very well.  That's not my point.  I'm >philosophically< opposed to it\n",
      "because of its complexity.\n",
      "\n",
      "This complexity has led to some programs' poor TIFF writers making\n",
      "some very bizarre files, other programs' inability to load TIFF\n",
      "images (though they'll save them, of course), and a general\n",
      "inability to interchange images between different environments\n",
      "despite the fact they all think they understand TIFF.\n",
      "\n",
      "As the saying goes, \"It's not me I'm worried about- it's all the\n",
      ">other<  assholes out there!\"  I've had big trouble with misuse and\n",
      "abuse of TIFF over the years, and I chalk it all up to the immense (and\n",
      "unnecessary) complexity of the format.\n",
      "\n",
      "In the words of the TIFF 5.0 spec, Appendix G, page G-1 (capitalized\n",
      "emphasis mine):\n",
      "\n",
      "\"The only problem with this sort of success is that TIFF was designed\n",
      "to be powerful and flexible, at the expense of simplicity.  It takes a\n",
      "fair amount of effort to handle all the options currently defined in\n",
      "this specification (PROBABLY NO APPLICATION DOES A COMPLETE JOB),\n",
      "and that is currently the only way you can be >sure< that you will be\n",
      "able to import any TIFF image, since there are so many\n",
      "image-generating applications out there now.\"\n",
      "\n",
      "\n",
      "If a program (or worse all applications) can't read >every< TIFF\n",
      "image, that means there are some it won't- some that I might have to\n",
      "deal with.  Why would I want my images to be trapped in that format?  I\n",
      "don't and neither should anyone who agrees with my reasoning- not\n",
      "that anyone does, of course! :-)\n",
      "\n",
      "ab\n",
      "\n"
     ]
    }
   ],
   "source": [
    "print(\"Subject:, \", twenty_train.target_names[1])\n",
    "\n",
    "#And lets print a few examples, I use the not proccesed one for readability\n",
    "for i in range(1,25):\n",
    "    if (twenty_train.target[i] == 1):\n",
    "        print(twenty_train.data[i])\n",
    "        "
   ]
  },
  {
   "cell_type": "markdown",
   "metadata": {},
   "source": [
    "Step 1 involves first looking at the subject matter, and generating some keywords. I'll do my best to brainstorm some that are both broad enough to show up, and specific enough it be associated with computer graphics."
   ]
  },
  {
   "cell_type": "code",
   "execution_count": 26,
   "metadata": {},
   "outputs": [
    {
     "name": "stdout",
     "output_type": "stream",
     "text": [
      "[' graphic chip', ' graphic workstat', ' imag code', ' digit imag', ' tiff', ' gnu plot', ' comput graphic', ' graphic card', ' 3d graphic', ' thin algorithm', ' thin imag', ' cgi', ' textur map', ' curv separ', ' imag process']\n"
     ]
    }
   ],
   "source": [
    "comp_graphics_key_words = [\"graphics chip\", \"graphic workstation\", \"image coding\",\n",
    "                           \"digital imaging\", \" tiff \", \"gnu plot\", \"computer graphics\", \"graphics card\",\n",
    "                           \"3d graphics\", \"thinning algorithm\", \"thinned image\", \" cgi \", \"texture mapping\", \n",
    "                           \"curve separation\", \"image processing\"]\n",
    "\n",
    "#Store pre-proc keywords here\n",
    "comp_keys = []\n",
    "\n",
    "#Go through each key and stem\n",
    "for key in comp_graphics_key_words:\n",
    "    words = nltk.word_tokenize(key.lower())\n",
    "\n",
    "    ent = \"\"\n",
    "\n",
    "        #Stem each word, and re add to entry\n",
    "    for word in words:\n",
    "        word = stemmer.stem(word)\n",
    "\n",
    "        ent = ent + \" \" + word\n",
    "        \n",
    "    comp_keys.append(ent)\n",
    "\n",
    "print(comp_keys)"
   ]
  },
  {
   "cell_type": "markdown",
   "metadata": {},
   "source": [
    "There is of course one large step missing here before these keywords are usable, and this is creating an unlabelled set of data to search through. In preprocessing.ipynb, I prepare each individual dataset for use here. For the scope of this problem I will create this set from the first redditTextBlock of 10 million comments split into sentences, and will merge that with the news, blog and twitter sample text."
   ]
  },
  {
   "cell_type": "code",
   "execution_count": 27,
   "metadata": {
    "collapsed": true
   },
   "outputs": [],
   "source": [
    "read_paths = ['data/redditTextBlock1Proc.pkl', 'data/courseraBlogsProc.pkl', 'data/courseraTwitterProc.pkl',\n",
    "              'data/courseraNewsProc.pkl']\n",
    "\n",
    "#Use the createCorpus function to create a Corpus based on the read paths\n",
    "corpus = createCorpus(read_paths)"
   ]
  },
  {
   "cell_type": "code",
   "execution_count": 28,
   "metadata": {},
   "outputs": [
    {
     "data": {
      "text/plain": [
       "32266806"
      ]
     },
     "execution_count": 28,
     "metadata": {},
     "output_type": "execute_result"
    }
   ],
   "source": [
    "#Check the length of the corpus created\n",
    "len(corpus)"
   ]
  },
  {
   "cell_type": "markdown",
   "metadata": {},
   "source": [
    "Lets now use the createQuickTrainingData function defined earlier to search through the Corpus, getting all instances of a line where a keyword is present, as well as, adding based on the ratio given, an amount of negative instances."
   ]
  },
  {
   "cell_type": "code",
   "execution_count": 29,
   "metadata": {
    "collapsed": true
   },
   "outputs": [],
   "source": [
    "X, y = createQuickTrainingData(comp_keys, 3)"
   ]
  },
  {
   "cell_type": "code",
   "execution_count": null,
   "metadata": {
    "collapsed": true
   },
   "outputs": [],
   "source": [
    "#Define our test set to include all of the avaliable labeled data, both training and test.\n",
    "X_test = twenty_train_data_proc + twenty_test_data_proc\n",
    "y_test = create_test_labels(1,list(twenty_train.target) + list(twenty_test.target))"
   ]
  },
  {
   "cell_type": "code",
   "execution_count": 31,
   "metadata": {},
   "outputs": [
    {
     "name": "stdout",
     "output_type": "stream",
     "text": [
      "18846\n",
      "18846\n"
     ]
    }
   ],
   "source": [
    "#Sanity check, make sure X_test, and y_test are the same\n",
    "print(len(X_test))\n",
    "print(len(y_test))"
   ]
  },
  {
   "cell_type": "code",
   "execution_count": 32,
   "metadata": {},
   "outputs": [
    {
     "name": "stdout",
     "output_type": "stream",
     "text": [
      "             precision    recall  f1-score   support\n",
      "\n",
      "          0       0.96      0.98      0.97     17873\n",
      "          1       0.39      0.22      0.28       973\n",
      "\n",
      "avg / total       0.93      0.94      0.93     18846\n",
      "\n",
      "[[17539   334]\n",
      " [  762   211]]\n"
     ]
    }
   ],
   "source": [
    "#Redefine the pipeline just to again see the current settings\n",
    "text_clf = Pipeline([('vect', CountVectorizer()),('tfidf', TfidfTransformer()), \n",
    "                     ('clf', SGDClassifier(loss='modified_huber', penalty='l2', alpha=1e-3,\n",
    "                       random_state=42, max_iter=5, tol=None))])\n",
    "\n",
    "text_clf.fit(X,y)\n",
    "predicted = text_clf.predict(X_test)\n",
    "\n",
    "print(metrics.classification_report(y_test, predicted))\n",
    "print(metrics.confusion_matrix(y_test, predicted))"
   ]
  },
  {
   "cell_type": "markdown",
   "metadata": {},
   "source": [
    "Alright interesting, so from just a 10ish keywords we are able to get .4 precision, and .20 recall... alright that is pretty bad, but at this step we are not exactly expecting perfect results. \n",
    "\n",
    "Lets compare these numbers to how just a keyword search performs on the test set."
   ]
  },
  {
   "cell_type": "code",
   "execution_count": 33,
   "metadata": {},
   "outputs": [
    {
     "data": {
      "text/plain": [
       "18846"
      ]
     },
     "execution_count": 33,
     "metadata": {},
     "output_type": "execute_result"
    }
   ],
   "source": [
    "predicted = []\n",
    "\n",
    "#Search through the test set, and mark as 1 if the keyword is found otherwise mark 0\n",
    "for line in X_test:\n",
    "        found = False\n",
    "        \n",
    "        for key in comp_keys:\n",
    "            if (key in line) and (not found):\n",
    "                \n",
    "                #Add 1 if found\n",
    "                predicted.append(1)\n",
    "                found = True\n",
    "        \n",
    "        #If not found, add 0\n",
    "        if not found:\n",
    "            predicted.append(0)\n",
    "\n",
    "#Lastly, a sanity check\n",
    "len(predicted)"
   ]
  },
  {
   "cell_type": "code",
   "execution_count": 34,
   "metadata": {},
   "outputs": [
    {
     "name": "stdout",
     "output_type": "stream",
     "text": [
      "             precision    recall  f1-score   support\n",
      "\n",
      "          0       0.96      0.99      0.97     17873\n",
      "          1       0.60      0.18      0.28       973\n",
      "\n",
      "avg / total       0.94      0.95      0.94     18846\n",
      "\n",
      "[[17757   116]\n",
      " [  796   177]]\n"
     ]
    }
   ],
   "source": [
    "print(metrics.classification_report(y_test, predicted))\n",
    "print(metrics.confusion_matrix(y_test, predicted))\n",
    "\n",
    "base_line = metrics.f1_score(y_test, predicted)"
   ]
  },
  {
   "cell_type": "markdown",
   "metadata": {},
   "source": [
    "Alright, so the baseline keyword search actually performed a little bit better... though this is before any finetuning to the classifier I trained on the corpus data, so that will constitute the next step. This is also notably after looking at the testing data, which in a way is cheating, since to gather key words I looked at examples of key words. Regardless, it sets a good baseline, to try and beat with just a keyword search.\n",
    "\n",
    "\n",
    "A few things I would like to expiriment with are, a different loss function for the SGD classifier,\n",
    "different ratios of training data, and use of ngram range in CountVectorizer, and setting max_features.\n",
    "The different loss functions for this task could be - ‘hinge’, ‘log’, ‘modified_huber’, ‘squared_hinge’, ‘perceptron’. \n",
    "\n",
    "Let's try 'hinge','modified huber' and 'perceptron' for the loss functions.\n",
    "\n",
    "Also note, I will run my own version of a grid search defined earlier to give myself more control over the metric used to evaluate. Also note that I shouldn't need to run the search with all the different ratios, I will try 2-7."
   ]
  },
  {
   "cell_type": "code",
   "execution_count": 35,
   "metadata": {},
   "outputs": [
    {
     "name": "stdout",
     "output_type": "stream",
     "text": [
      "25 / 216\n",
      "50 / 216\n",
      "75 / 216\n",
      "100 / 216\n",
      "125 / 216\n",
      "150 / 216\n",
      "175 / 216\n",
      "200 / 216\n"
     ]
    }
   ],
   "source": [
    "#Params to search over\n",
    "loss_functions = ['hinge','modified_huber','squared_hinge']\n",
    "n_grams = [(1,1), (1,2),(1,3)]\n",
    "max_features_options = [None, 300, 500, 1000]\n",
    "ratio_range = [2,8]\n",
    "\n",
    "results = GridSearch(loss_functions, n_grams, max_features_options, ratio_range, comp_keys)"
   ]
  },
  {
   "cell_type": "code",
   "execution_count": 36,
   "metadata": {},
   "outputs": [
    {
     "name": "stdout",
     "output_type": "stream",
     "text": [
      "Top 10\n",
      "f1 score:  0.367803837953 for [3, 'modified_huber', (1, 3), 300]\n",
      "f1 score:  0.367521367521 for [3, 'modified_huber', (1, 2), 300]\n",
      "f1 score:  0.363304981774 for [5, 'modified_huber', (1, 1), 300]\n",
      "f1 score:  0.36125 for [6, 'modified_huber', (1, 1), 300]\n",
      "f1 score:  0.357906584131 for [3, 'modified_huber', (1, 2), 500]\n",
      "f1 score:  0.357824427481 for [3, 'modified_huber', (1, 1), 300]\n",
      "f1 score:  0.357548240636 for [3, 'modified_huber', (1, 3), 500]\n",
      "f1 score:  0.356965174129 for [4, 'modified_huber', (1, 2), 300]\n",
      "f1 score:  0.356027482823 for [4, 'modified_huber', (1, 3), 300]\n",
      "f1 score:  0.35261707989 for [4, 'modified_huber', (1, 1), 300]\n",
      "Bottom 5\n",
      "f1 score:  0.0138476755687 for [6, 'hinge', (1, 2), None]\n",
      "f1 score:  0.01001001001 for [5, 'hinge', (1, 3), None]\n",
      "f1 score:  0.00811359026369 for [7, 'hinge', (1, 3), None]\n",
      "f1 score:  0.00807265388496 for [6, 'hinge', (1, 3), None]\n",
      "f1 score:  0.008 for [7, 'hinge', (1, 2), None]\n"
     ]
    }
   ],
   "source": [
    "#Save the best result to full_corpus and print the rest\n",
    "full_corpus = printF1(results)"
   ]
  },
  {
   "cell_type": "markdown",
   "metadata": {},
   "source": [
    "Alright, so the modified huber loss function preformed far better, with every single one in the top 10 having loss modified huber. In addition, the max features in the top 20 are around 300-500, with None at the bottom. "
   ]
  },
  {
   "cell_type": "code",
   "execution_count": 37,
   "metadata": {},
   "outputs": [
    {
     "name": "stdout",
     "output_type": "stream",
     "text": [
      "Top 10\n",
      "precision score:  0.582210242588 for [7, 'modified_huber', (1, 3), 500] with recall:  0.221993833505\n",
      "precision score:  0.57957957958 for [7, 'modified_huber', (1, 3), 1000] with recall:  0.198355601233\n",
      "precision score:  0.579411764706 for [7, 'modified_huber', (1, 2), 1000] with recall:  0.20246659815\n",
      "precision score:  0.574468085106 for [7, 'modified_huber', (1, 2), 500] with recall:  0.221993833505\n",
      "precision score:  0.573604060914 for [6, 'modified_huber', (1, 3), 500] with recall:  0.232271325797\n",
      "precision score:  0.562015503876 for [5, 'hinge', (1, 2), 500] with recall:  0.149023638232\n",
      "precision score:  0.560885608856 for [5, 'hinge', (1, 3), 500] with recall:  0.156217882837\n",
      "precision score:  0.558024691358 for [6, 'modified_huber', (1, 2), 500] with recall:  0.232271325797\n",
      "precision score:  0.557422969188 for [6, 'modified_huber', (1, 3), 1000] with recall:  0.204522096608\n",
      "precision score:  0.557184750733 for [4, 'hinge', (1, 3), 300] with recall:  0.195272353546\n",
      "Bottom 10\n",
      "precision score:  0.0491325819932 for [6, 'squared_hinge', (1, 3), 300] with recall:  0.79753340185\n",
      "precision score:  0.0491243323811 for [4, 'squared_hinge', (1, 1), 300] with recall:  0.812949640288\n",
      "precision score:  0.0490410293761 for [5, 'squared_hinge', (1, 2), 300] with recall:  0.830421377184\n",
      "precision score:  0.0487666034156 for [5, 'squared_hinge', (1, 1), 300] with recall:  0.792394655704\n",
      "precision score:  0.0485974174671 for [7, 'squared_hinge', (1, 1), 300] with recall:  0.7852004111\n",
      "precision score:  0.0485198918987 for [7, 'squared_hinge', (1, 3), 300] with recall:  0.793422404933\n",
      "precision score:  0.0484145495808 for [7, 'squared_hinge', (1, 2), 300] with recall:  0.789311408016\n",
      "precision score:  0.0483445648989 for [7, 'squared_hinge', (1, 1), 1000] with recall:  0.678314491264\n",
      "precision score:  0.0480915525567 for [7, 'squared_hinge', (1, 3), 500] with recall:  0.74717368962\n",
      "precision score:  0.0480673606047 for [7, 'squared_hinge', (1, 2), 500] with recall:  0.745118191161\n"
     ]
    }
   ],
   "source": [
    "#Try sorting by precision, just as a comparison to the high precision seen in the keyword search\n",
    "sorted_results = sorted(results,key=lambda x: (x[0][1]), reverse=True)\n",
    "\n",
    "print(\"Top 10\")\n",
    "for line in sorted_results[:10]:\n",
    "    print(\"precision score: \", line[0][1], \"for\", line[1], \"with recall: \", line[0][2])\n",
    "    \n",
    "print(\"Bottom 10\")\n",
    "for line in sorted_results[-10:]:\n",
    "    print(\"precision score: \", line[0][1], \"for\", line[1],  \"with recall: \", line[0][2])"
   ]
  },
  {
   "cell_type": "markdown",
   "metadata": {},
   "source": [
    "We can also look at the precision and recall scores, as expected, with high precision comeslow recall, and vice versa.\n",
    "\n",
    "In any case the winner in this round appears to be 'modified_huber' loss, 300 max_features, (1,2) or (1,3) n-gram,\n",
    "3-4 ratio, these approaches yielfing f1 scores around .36, compared to the simple keyword search, which yielded .28. \n",
    "\n",
    "The next question to consider is, how does this change as the 'corpus' of documents changes."
   ]
  },
  {
   "cell_type": "code",
   "execution_count": 38,
   "metadata": {},
   "outputs": [
    {
     "name": "stdout",
     "output_type": "stream",
     "text": [
      "25 / 54\n",
      "50 / 54\n"
     ]
    }
   ],
   "source": [
    "#Read in only the news samples this time\n",
    "read_paths = ['data/courseraNewsProc.pkl']\n",
    "\n",
    "corpus = createCorpus(read_paths)\n",
    "\n",
    "#Further we can refine the search by only using modified huber, and different max_features\n",
    "#The other settings stay the same\n",
    "loss_functions = ['modified_huber']\n",
    "max_features_options = [200, 300, 500]\n",
    "\n",
    "results = GridSearch(loss_functions, n_grams, max_features_options, ratio_range, comp_keys)"
   ]
  },
  {
   "cell_type": "code",
   "execution_count": 39,
   "metadata": {},
   "outputs": [
    {
     "name": "stdout",
     "output_type": "stream",
     "text": [
      "Top 10\n",
      "f1 score:  0.379657007688 for [4, 'modified_huber', (1, 1), 300]\n",
      "f1 score:  0.372121212121 for [4, 'modified_huber', (1, 3), 500]\n",
      "f1 score:  0.371779141104 for [4, 'modified_huber', (1, 2), 500]\n",
      "f1 score:  0.371747211896 for [4, 'modified_huber', (1, 1), 500]\n",
      "f1 score:  0.369770580297 for [5, 'modified_huber', (1, 2), 500]\n",
      "f1 score:  0.368563685637 for [5, 'modified_huber', (1, 3), 500]\n",
      "f1 score:  0.36784409257 for [2, 'modified_huber', (1, 1), 300]\n",
      "f1 score:  0.365577051368 for [5, 'modified_huber', (1, 1), 500]\n",
      "f1 score:  0.363636363636 for [2, 'modified_huber', (1, 1), 200]\n",
      "f1 score:  0.363400389358 for [3, 'modified_huber', (1, 2), 300]\n",
      "Bottom 5\n",
      "f1 score:  0.0040733197556 for [6, 'modified_huber', (1, 1), 200]\n",
      "f1 score:  0.00406504065041 for [6, 'modified_huber', (1, 2), 200]\n",
      "f1 score:  0.0 for [7, 'modified_huber', (1, 1), 200]\n",
      "f1 score:  0.0 for [7, 'modified_huber', (1, 2), 200]\n",
      "f1 score:  0.0 for [7, 'modified_huber', (1, 3), 200]\n"
     ]
    }
   ],
   "source": [
    "#Save the best score, and print the rest\n",
    "just_news = printF1(results)"
   ]
  },
  {
   "cell_type": "code",
   "execution_count": 40,
   "metadata": {},
   "outputs": [
    {
     "name": "stdout",
     "output_type": "stream",
     "text": [
      "25 / 54\n",
      "50 / 54\n"
     ]
    }
   ],
   "source": [
    "#Now test everything, but without the news\n",
    "read_paths = ['data/redditTextBlock1Proc.pkl', 'data/courseraBlogsProc.pkl', 'data/courseraTwitterProc.pkl']\n",
    "\n",
    "corpus = createCorpus(read_paths)\n",
    "\n",
    "results = GridSearch(loss_functions, n_grams, max_features_options, ratio_range, comp_keys)"
   ]
  },
  {
   "cell_type": "code",
   "execution_count": 41,
   "metadata": {},
   "outputs": [
    {
     "name": "stdout",
     "output_type": "stream",
     "text": [
      "Top 10\n",
      "f1 score:  0.375291375291 for [4, 'modified_huber', (1, 3), 300]\n",
      "f1 score:  0.375145180023 for [4, 'modified_huber', (1, 2), 300]\n",
      "f1 score:  0.369982547993 for [2, 'modified_huber', (1, 3), 200]\n",
      "f1 score:  0.368898978434 for [3, 'modified_huber', (1, 3), 300]\n",
      "f1 score:  0.368289637953 for [3, 'modified_huber', (1, 2), 200]\n",
      "f1 score:  0.367439231204 for [3, 'modified_huber', (1, 2), 300]\n",
      "f1 score:  0.367398119122 for [3, 'modified_huber', (1, 3), 200]\n",
      "f1 score:  0.366226912929 for [4, 'modified_huber', (1, 1), 300]\n",
      "f1 score:  0.365748709122 for [2, 'modified_huber', (1, 2), 200]\n",
      "f1 score:  0.364563416189 for [4, 'modified_huber', (1, 3), 200]\n",
      "Bottom 5\n",
      "f1 score:  0.230878186969 for [7, 'modified_huber', (1, 1), 200]\n",
      "f1 score:  0.193650793651 for [6, 'modified_huber', (1, 2), 200]\n",
      "f1 score:  0.192675159236 for [6, 'modified_huber', (1, 3), 200]\n",
      "f1 score:  0.192276088743 for [7, 'modified_huber', (1, 2), 200]\n",
      "f1 score:  0.188429752066 for [7, 'modified_huber', (1, 3), 200]\n"
     ]
    }
   ],
   "source": [
    "#Save the best score, and print the rest\n",
    "without_news = printF1(results)"
   ]
  },
  {
   "cell_type": "code",
   "execution_count": 42,
   "metadata": {},
   "outputs": [
    {
     "name": "stdout",
     "output_type": "stream",
     "text": [
      "25 / 54\n",
      "50 / 54\n"
     ]
    }
   ],
   "source": [
    "#Now lets try testing with all the data, but randomly removing half\n",
    "read_paths = ['data/redditTextBlock1Proc.pkl', 'data/courseraBlogsProc.pkl', 'data/courseraTwitterProc.pkl',\n",
    "              'data/courseraNewsProc.pkl']\n",
    "\n",
    "corpus = createCorpus(read_paths)\n",
    "\n",
    "#shuffle then randomly delete half the corpus\n",
    "random.shuffle(corpus)\n",
    "\n",
    "for x in range(int(len(corpus)/2)):\n",
    "    corpus.pop()\n",
    "\n",
    "results = GridSearch(loss_functions, n_grams, max_features_options, ratio_range, comp_keys)"
   ]
  },
  {
   "cell_type": "code",
   "execution_count": 43,
   "metadata": {},
   "outputs": [
    {
     "name": "stdout",
     "output_type": "stream",
     "text": [
      "Top 10\n",
      "f1 score:  0.372943327239 for [4, 'modified_huber', (1, 3), 200]\n",
      "f1 score:  0.372572815534 for [4, 'modified_huber', (1, 2), 200]\n",
      "f1 score:  0.363432417274 for [6, 'modified_huber', (1, 1), 200]\n",
      "f1 score:  0.362107623318 for [6, 'modified_huber', (1, 1), 300]\n",
      "f1 score:  0.361283643892 for [4, 'modified_huber', (1, 1), 200]\n",
      "f1 score:  0.359759431383 for [3, 'modified_huber', (1, 3), 300]\n",
      "f1 score:  0.359669811321 for [6, 'modified_huber', (1, 1), 500]\n",
      "f1 score:  0.359490274983 for [5, 'modified_huber', (1, 3), 200]\n",
      "f1 score:  0.359488035615 for [3, 'modified_huber', (1, 3), 200]\n",
      "f1 score:  0.358738501971 for [6, 'modified_huber', (1, 2), 500]\n",
      "Bottom 5\n",
      "f1 score:  0.237113402062 for [6, 'modified_huber', (1, 2), 200]\n",
      "f1 score:  0.236861584012 for [6, 'modified_huber', (1, 3), 200]\n",
      "f1 score:  0.236220472441 for [7, 'modified_huber', (1, 1), 200]\n",
      "f1 score:  0.208538587849 for [7, 'modified_huber', (1, 2), 200]\n",
      "f1 score:  0.208538587849 for [7, 'modified_huber', (1, 3), 200]\n"
     ]
    }
   ],
   "source": [
    "#Save the best score and print the rest\n",
    "half_corpus = printF1(results)"
   ]
  },
  {
   "cell_type": "markdown",
   "metadata": {},
   "source": [
    "Now that we have run the search over a few different options, we can make a quick graph to see some comparisons of the best scores for each option."
   ]
  },
  {
   "cell_type": "code",
   "execution_count": 44,
   "metadata": {},
   "outputs": [
    {
     "data": {
      "image/png": "[encoded data removed]",
      "text/plain": [
       "<matplotlib.figure.Figure at 0x7f9b1777f908>"
      ]
     },
     "metadata": {},
     "output_type": "display_data"
    }
   ],
   "source": [
    "plt.figure(figsize=(12,7))\n",
    "\n",
    "plt.bar(1, base_line, label='1 - Base Line')\n",
    "plt.bar(2, full_corpus, label='2 - Full Corpus')\n",
    "plt.bar(3, just_news, label='3 - Just News')\n",
    "plt.bar(4, without_news, label='4 - Without News')\n",
    "plt.bar(5, half_corpus, label = \"5 - Half Corpus\")\n",
    "\n",
    "title = \"Top F1 scores for classifiers trained on different Corpus\"\n",
    "plt.title(title)\n",
    "plt.ylabel(\"F1 Scores\", fontsize=14)\n",
    "\n",
    "plt.legend(prop={'size': 12})\n",
    "\n",
    "plt.show()"
   ]
  },
  {
   "cell_type": "markdown",
   "metadata": {},
   "source": [
    "Alright moving on, Technique 2, building a classifier from scratch doesn't make as much sense to test on this dataset, so I will move on to 3.Technique 3 involves again splitting the testing data into train split, and then using a look at the test set to generate key words. We will first try the most naive approach possible only looking at word frequency in class X, and then move onto applying tf-idf, and viewing the whole training set."
   ]
  },
  {
   "cell_type": "code",
   "execution_count": 45,
   "metadata": {
    "collapsed": true
   },
   "outputs": [],
   "source": [
    "#Redfine X_train and y_test, lets say with class 9 this time, ratio of 4\n",
    "y_test = create_test_labels(9, twenty_test.target)\n",
    "X_train, y_train = create_train_set(9, 4, twenty_train_data_proc, twenty_train.target)"
   ]
  },
  {
   "cell_type": "code",
   "execution_count": 46,
   "metadata": {},
   "outputs": [
    {
     "data": {
      "text/plain": [
       "597"
      ]
     },
     "execution_count": 46,
     "metadata": {},
     "output_type": "execute_result"
    }
   ],
   "source": [
    "train_data = zip (X_train, y_train)\n",
    "\n",
    "class_X = []\n",
    "not_class_X = []\n",
    "\n",
    "for line,label in train_data:\n",
    "    if (label == 1):\n",
    "        class_X.append(line)\n",
    "    else:\n",
    "        not_class_X.append(line)\n",
    "        \n",
    "len(class_X)"
   ]
  },
  {
   "cell_type": "code",
   "execution_count": 47,
   "metadata": {
    "collapsed": true
   },
   "outputs": [],
   "source": [
    "#Get the word count for every word in class X\n",
    "\n",
    "#Use a counter from python collections to get a quick word count\n",
    "cnt_class_X = collections.Counter()\n",
    "\n",
    "for line in class_X:\n",
    "    words = nltk.word_tokenize(line)\n",
    "    \n",
    "    for word in words:\n",
    "        cnt_class_X[word] += 1"
   ]
  },
  {
   "cell_type": "code",
   "execution_count": 48,
   "metadata": {},
   "outputs": [
    {
     "data": {
      "text/plain": [
       "[(',', 6617),\n",
       " ('.', 5964),\n",
       " ('>', 5930),\n",
       " ('--', 5753),\n",
       " ('the', 5616),\n",
       " (':', 4774),\n",
       " (')', 2673),\n",
       " ('a', 2439),\n",
       " ('to', 2346),\n",
       " ('(', 2189),\n",
       " ('in', 2164),\n",
       " ('of', 2106),\n",
       " ('and', 2105),\n",
       " ('@', 1985),\n",
       " ('i', 1906),\n",
       " ('is', 1477),\n",
       " ('that', 1417),\n",
       " ('?', 1159),\n",
       " ('he', 1140),\n",
       " ('!', 1123)]"
      ]
     },
     "execution_count": 48,
     "metadata": {},
     "output_type": "execute_result"
    }
   ],
   "source": [
    "#Print out the most common 20 words\n",
    "cnt_class_X.most_common(20)"
   ]
  },
  {
   "cell_type": "markdown",
   "metadata": {},
   "source": [
    "Alright, it seems pretty clear from our naive first attempt that taking into account term frequency is almost invaluable, with all 20 of the top 'words' being extremly generic, and revealing no pertinent class information. Before using any of sklearns built into tf-idf, lets try using a neat feature of Counter objects, which lets us subtract the counts of one counter from another"
   ]
  },
  {
   "cell_type": "code",
   "execution_count": 49,
   "metadata": {
    "collapsed": true
   },
   "outputs": [],
   "source": [
    "cnt_not_class_X = collections.Counter()\n",
    "\n",
    "for line in not_class_X:\n",
    "    words = nltk.word_tokenize(line)\n",
    "    \n",
    "    for word in words:\n",
    "        cnt_not_class_X[word] += 1"
   ]
  },
  {
   "cell_type": "code",
   "execution_count": 50,
   "metadata": {},
   "outputs": [
    {
     "data": {
      "text/plain": [
       "[('>', 36428),\n",
       " (',', 35473),\n",
       " ('the', 30717),\n",
       " ('.', 30006),\n",
       " (':', 25031),\n",
       " ('--', 20938),\n",
       " (')', 16026),\n",
       " ('(', 15924),\n",
       " ('to', 15243),\n",
       " ('of', 14833),\n",
       " ('@', 13401),\n",
       " ('a', 12817),\n",
       " ('and', 12209),\n",
       " ('i', 10672),\n",
       " ('in', 10060),\n",
       " ('is', 9464),\n",
       " ('ax', 9107),\n",
       " ('?', 8689),\n",
       " (\"''\", 8282),\n",
       " ('that', 8276)]"
      ]
     },
     "execution_count": 50,
     "metadata": {},
     "output_type": "execute_result"
    }
   ],
   "source": [
    "#Might as well take a peak the not_x most common as well..\n",
    "cnt_not_class_X.most_common(20)"
   ]
  },
  {
   "cell_type": "markdown",
   "metadata": {},
   "source": [
    "These look awfully simmilar, so the next reasonable step is to subtract these counts from the first one"
   ]
  },
  {
   "cell_type": "code",
   "execution_count": 51,
   "metadata": {
    "collapsed": true
   },
   "outputs": [],
   "source": [
    "cnt_class_X.subtract(cnt_not_class_X)"
   ]
  },
  {
   "cell_type": "code",
   "execution_count": 52,
   "metadata": {},
   "outputs": [
    {
     "data": {
      "text/plain": [
       "[('basebal', 289),\n",
       " ('team', 273),\n",
       " ('pitch', 265),\n",
       " ('game', 239),\n",
       " ('player', 221),\n",
       " ('hit', 210),\n",
       " ('win', 199),\n",
       " ('cub', 164),\n",
       " ('brave', 156),\n",
       " ('season', 149),\n",
       " ('score', 140),\n",
       " ('pitcher', 137),\n",
       " ('philli', 137),\n",
       " ('leagu', 128),\n",
       " ('hitter', 127),\n",
       " ('alomar', 116),\n",
       " ('fan', 111),\n",
       " ('bat', 106),\n",
       " ('yanke', 103),\n",
       " ('sox', 103)]"
      ]
     },
     "execution_count": 52,
     "metadata": {},
     "output_type": "execute_result"
    }
   ],
   "source": [
    "cnt_class_X.most_common(20)"
   ]
  },
  {
   "cell_type": "code",
   "execution_count": 53,
   "metadata": {},
   "outputs": [
    {
     "data": {
      "text/plain": [
       "'rec.sport.baseball'"
      ]
     },
     "execution_count": 53,
     "metadata": {},
     "output_type": "execute_result"
    }
   ],
   "source": [
    "twenty_train.target_names[9]"
   ]
  },
  {
   "cell_type": "markdown",
   "metadata": {},
   "source": [
    "These look a lot better, and is clear now that class 9 is about baseball, as confirmed by checking the target names. It also reveals a large potential flaw, where by only using one word, if we were to use these key words in a general search of the corpus we are almost gaurenteed to turn up a great deal of unrelated sentences. For example 'fan', doesn't imply only baseball, it just means that within the twenty news dataset, and our limited training set, fan ussually shows up with baseball. This raises two issues to deal with before actually testing, making sure the word is actually specific to the subject and can't be easily generalized, and related, the issue of 1-grams vs. n-grams. The first of these issues is far harder to solve, but by dealing with the second, we may reduce it's sway."
   ]
  },
  {
   "cell_type": "code",
   "execution_count": 54,
   "metadata": {
    "collapsed": true
   },
   "outputs": [],
   "source": [
    "#Try with 2-gram first\n",
    "cnt_class_X = get_N_Gram_Count(class_X, 2)\n",
    "cnt_not_class_X = get_N_Gram_Count(not_class_X, 2)\n",
    "\n",
    "cnt_class_X.subtract(cnt_not_class_X)"
   ]
  },
  {
   "cell_type": "code",
   "execution_count": 55,
   "metadata": {},
   "outputs": [
    {
     "data": {
      "text/plain": [
       "[(' the brave', 94),\n",
       " (' last year', 89),\n",
       " (' 0 0', 87),\n",
       " (' game ,', 80),\n",
       " (' this year', 76),\n",
       " (\" he 's\", 63),\n",
       " (' the cub', 62),\n",
       " (' home run', 59),\n",
       " (' hall of', 59),\n",
       " (' red sox', 52),\n",
       " (' @ cs.cornell.edu', 52),\n",
       " (' in basebal', 52),\n",
       " (' the philli', 51),\n",
       " (' a team', 51),\n",
       " (' basebal .', 49),\n",
       " (' of fame', 49),\n",
       " (' the team', 46),\n",
       " (' win the', 46),\n",
       " (' basebal player', 45),\n",
       " (' year .', 44)]"
      ]
     },
     "execution_count": 55,
     "metadata": {},
     "output_type": "execute_result"
    }
   ],
   "source": [
    "cnt_class_X.most_common(20)"
   ]
  },
  {
   "cell_type": "markdown",
   "metadata": {},
   "source": [
    "Alright, these seem to be a little more what we are looking for, but we still can't quite just plug these results in blind, e.g. '0 0' doesn't seem to have much to do with baseball, and 'game ,' doesn't have much information to it. Let's just take a look at 3-gram, though I doubt it will be much better."
   ]
  },
  {
   "cell_type": "code",
   "execution_count": 56,
   "metadata": {
    "collapsed": true
   },
   "outputs": [],
   "source": [
    "cnt_class_X = get_N_Gram_Count(class_X, 3)\n",
    "cnt_not_class_X = get_N_Gram_Count(not_class_X, 3)\n",
    "\n",
    "cnt_class_X.subtract(cnt_not_class_X)"
   ]
  },
  {
   "cell_type": "code",
   "execution_count": 57,
   "metadata": {},
   "outputs": [
    {
     "data": {
      "text/plain": [
       "[(' 0 0 0', 53),\n",
       " (' hall of fame', 50),\n",
       " (' the hall of', 39),\n",
       " (' tedward @ cs.cornell.edu', 38),\n",
       " (' ( edward [', 37),\n",
       " (' ] fischer )', 37),\n",
       " (' edward [ ted', 36),\n",
       " (' [ ted ]', 36),\n",
       " (' ted ] fischer', 36),\n",
       " (' jewish basebal player', 35),\n",
       " (' basebal player ?', 34),\n",
       " (' cs.cornell.edu ( edward', 34),\n",
       " (' @ cs.cornell.edu (', 33),\n",
       " (' re : jewish', 32),\n",
       " (' : jewish basebal', 32),\n",
       " (' cub suck cub', 32),\n",
       " (' mss @ netcom.com', 30),\n",
       " (' this year .', 30),\n",
       " (' ( roger lustig', 30),\n",
       " (' roger lustig )', 30)]"
      ]
     },
     "execution_count": 57,
     "metadata": {},
     "output_type": "execute_result"
    }
   ],
   "source": [
    "cnt_class_X.most_common(20)"
   ]
  },
  {
   "cell_type": "markdown",
   "metadata": {},
   "source": [
    "Okay, it's safe to say the 3-gram starts returning some really un-usable keyword. While it would ideally be avoided, I think this approach will also require human input at this step. I will generate one's I believe to be useful from the various printed lists, this atleast helps the human come up with keywords."
   ]
  },
  {
   "cell_type": "code",
   "execution_count": 58,
   "metadata": {
    "collapsed": true
   },
   "outputs": [],
   "source": [
    "#What I could come up with from what was printed above, pretty much just baseball, and different teams.\n",
    "baseball_key_words = ['basebal', 'the cubs', 'red sox', 'major leagu', 'the yanke', 'the philli', 'the brave']"
   ]
  },
  {
   "cell_type": "markdown",
   "metadata": {},
   "source": [
    "After adding these new instances, we have two options for introducing more instances of not class X to training data, the first is add more from the twenty news group data, and the second is to introduce examples from the corpus. As at least in this case the number of instances found is more than our whole training set, it seems we are forced to add from the corpus. Note: we already have the trainQuickClassifier avaliable to grab us instances, so me might as well add both at once to the test data."
   ]
  },
  {
   "cell_type": "code",
   "execution_count": 59,
   "metadata": {},
   "outputs": [
    {
     "data": {
      "text/plain": [
       "53045"
      ]
     },
     "execution_count": 59,
     "metadata": {},
     "output_type": "execute_result"
    }
   ],
   "source": [
    "#Search the corpus for all instances of the keywords, and get counter examples as well\n",
    "#Use ratio 4 like above\n",
    "lines_with_key, y = createQuickTrainingData(baseball_key_words, 4)\n",
    "len(lines_with_key)"
   ]
  },
  {
   "cell_type": "code",
   "execution_count": 60,
   "metadata": {
    "collapsed": true
   },
   "outputs": [],
   "source": [
    "for line in lines_with_key:\n",
    "    X_train.append(line)\n",
    "for line in y:\n",
    "    y_train.append(line)"
   ]
  },
  {
   "cell_type": "code",
   "execution_count": 61,
   "metadata": {},
   "outputs": [
    {
     "data": {
      "text/plain": [
       "56030"
      ]
     },
     "execution_count": 61,
     "metadata": {},
     "output_type": "execute_result"
    }
   ],
   "source": [
    "#Check the new size of the training set\n",
    "len(y_train)"
   ]
  },
  {
   "cell_type": "code",
   "execution_count": 62,
   "metadata": {
    "collapsed": true
   },
   "outputs": [],
   "source": [
    "X_test = twenty_test_data_proc"
   ]
  },
  {
   "cell_type": "markdown",
   "metadata": {},
   "source": [
    "Alright, now that we have our new classifier, it is time to test it on X_test, and y_test"
   ]
  },
  {
   "cell_type": "code",
   "execution_count": 63,
   "metadata": {},
   "outputs": [
    {
     "data": {
      "text/plain": [
       "(0.58022690437601299, 0.8136363636363636, 0.45088161209068012)"
      ]
     },
     "execution_count": 63,
     "metadata": {},
     "output_type": "execute_result"
    }
   ],
   "source": [
    "#Lets use some of the information we found above when defining our initial text clf\n",
    "#Specifically we are already using ratio 4, lets use 'modified_huber', and ngram = (1,2), and lets start with\n",
    "#max_features = 1000\n",
    "text_clf = Pipeline([('vect', CountVectorizer(ngram_range=(1,2), max_features=1000)),('tfidf', TfidfTransformer()),\n",
    "                             ('clf', SGDClassifier(loss='modified_huber', penalty='l2', alpha=1e-3,\n",
    "                               random_state=22, max_iter=10))])\n",
    "\n",
    "\n",
    "get_metrics(text_clf, X_train, X_test, y_train, y_test)"
   ]
  },
  {
   "cell_type": "markdown",
   "metadata": {},
   "source": [
    "Frankly these are not great results, but before we come to any conclusions I think it would be worthwhile to modify the GridSearch function to work with this approach, and to preform a broader test. "
   ]
  },
  {
   "cell_type": "code",
   "execution_count": 64,
   "metadata": {},
   "outputs": [
    {
     "name": "stdout",
     "output_type": "stream",
     "text": [
      "25 / 54\n",
      "50 / 54\n"
     ]
    }
   ],
   "source": [
    "#Note: the ModifiedGridSearch now takes the extra param class_num and class_keys, lets define the search params\n",
    "loss_functions = ['modified_huber'] #Only going to try modified huber\n",
    "n_grams = [(1,1),(1,2),(1,3)]\n",
    "max_features_options = [None, 500, 1000]\n",
    "ratio_range = [1,7]\n",
    "\n",
    "#And run it\n",
    "results = ModifiedGridSearch(loss_functions, n_grams, max_features_options, ratio_range, 9, baseball_key_words)"
   ]
  },
  {
   "cell_type": "code",
   "execution_count": 65,
   "metadata": {},
   "outputs": [
    {
     "name": "stdout",
     "output_type": "stream",
     "text": [
      "Top 10\n",
      "f1 score:  0.675642594859 for [2, 'modified_huber', (1, 1), None]\n",
      "f1 score:  0.653846153846 for [2, 'modified_huber', (1, 2), 500]\n",
      "f1 score:  0.653796653797 for [2, 'modified_huber', (1, 3), 500]\n",
      "f1 score:  0.650292397661 for [2, 'modified_huber', (1, 1), 1000]\n",
      "f1 score:  0.647130647131 for [2, 'modified_huber', (1, 2), 1000]\n",
      "f1 score:  0.643031784841 for [2, 'modified_huber', (1, 3), 1000]\n",
      "f1 score:  0.640804597701 for [3, 'modified_huber', (1, 1), None]\n",
      "f1 score:  0.639455782313 for [3, 'modified_huber', (1, 1), 1000]\n",
      "f1 score:  0.635622817229 for [2, 'modified_huber', (1, 1), 500]\n",
      "f1 score:  0.634482758621 for [3, 'modified_huber', (1, 1), 500]\n",
      "Bottom 5\n",
      "f1 score:  0.45652173913 for [6, 'modified_huber', (1, 3), 500]\n",
      "f1 score:  0.415162454874 for [6, 'modified_huber', (1, 2), None]\n",
      "f1 score:  0.394366197183 for [6, 'modified_huber', (1, 3), None]\n",
      "f1 score:  0.337373737374 for [1, 'modified_huber', (1, 2), None]\n",
      "f1 score:  0.258040935673 for [1, 'modified_huber', (1, 3), None]\n"
     ]
    }
   ],
   "source": [
    "#As used above save the best score for each for later plotting\n",
    "baseball = printF1(results)"
   ]
  },
  {
   "cell_type": "markdown",
   "metadata": {},
   "source": [
    "After a more comprehensive search, we were able to get closer results to the baseline, yet it still falls signifigantly short. It is important to note though, these results are based on only one key word search. I will re-run the search, using stricter margins to increase run time."
   ]
  },
  {
   "cell_type": "code",
   "execution_count": 66,
   "metadata": {
    "collapsed": true
   },
   "outputs": [],
   "source": [
    "#Lets try with different baseball_keywords... or just basebal\n",
    "baseball_key_words = ['basebal']\n",
    "\n",
    "max_features_options = [200, 500, 1000]  #200 instead of none\n",
    "ratio_range = [2,4]  #Top results all 2 or 3\n",
    "\n",
    "#And re-run it\n",
    "results = ModifiedGridSearch(loss_functions, n_grams, max_features_options, ratio_range, 9, baseball_key_words)"
   ]
  },
  {
   "cell_type": "code",
   "execution_count": 67,
   "metadata": {},
   "outputs": [
    {
     "name": "stdout",
     "output_type": "stream",
     "text": [
      "Top 10\n",
      "f1 score:  0.647427854454 for [2, 'modified_huber', (1, 1), 1000]\n",
      "f1 score:  0.632944228275 for [2, 'modified_huber', (1, 3), 1000]\n",
      "f1 score:  0.631168831169 for [2, 'modified_huber', (1, 2), 1000]\n",
      "f1 score:  0.610899873257 for [2, 'modified_huber', (1, 1), 500]\n",
      "f1 score:  0.608955223881 for [3, 'modified_huber', (1, 1), 1000]\n",
      "f1 score:  0.606770833333 for [2, 'modified_huber', (1, 3), 500]\n",
      "f1 score:  0.60103626943 for [2, 'modified_huber', (1, 2), 500]\n",
      "f1 score:  0.574886535552 for [3, 'modified_huber', (1, 2), 1000]\n",
      "f1 score:  0.571428571429 for [3, 'modified_huber', (1, 3), 1000]\n",
      "f1 score:  0.556732223903 for [3, 'modified_huber', (1, 2), 500]\n",
      "Bottom 5\n",
      "f1 score:  0.513812154696 for [2, 'modified_huber', (1, 2), 200]\n",
      "f1 score:  0.508990318119 for [2, 'modified_huber', (1, 3), 200]\n",
      "f1 score:  0.478605388273 for [3, 'modified_huber', (1, 1), 200]\n",
      "f1 score:  0.475409836066 for [3, 'modified_huber', (1, 2), 200]\n",
      "f1 score:  0.470588235294 for [3, 'modified_huber', (1, 3), 200]\n"
     ]
    }
   ],
   "source": [
    "baseball_less = printF1(results)"
   ]
  },
  {
   "cell_type": "code",
   "execution_count": 68,
   "metadata": {
    "collapsed": true
   },
   "outputs": [],
   "source": [
    "#Now try running the baseline without any keywords\n",
    "leave_this_blank = []\n",
    "\n",
    "results = ModifiedGridSearch(loss_functions, n_grams, max_features_options, ratio_range, 9, leave_this_blank)"
   ]
  },
  {
   "cell_type": "code",
   "execution_count": 69,
   "metadata": {},
   "outputs": [
    {
     "name": "stdout",
     "output_type": "stream",
     "text": [
      "Top 10\n",
      "f1 score:  0.690376569038 for [2, 'modified_huber', (1, 1), 1000]\n",
      "f1 score:  0.685897435897 for [3, 'modified_huber', (1, 1), 1000]\n",
      "f1 score:  0.674468085106 for [3, 'modified_huber', (1, 3), 1000]\n",
      "f1 score:  0.674443266172 for [3, 'modified_huber', (1, 2), 1000]\n",
      "f1 score:  0.670081967213 for [2, 'modified_huber', (1, 2), 1000]\n",
      "f1 score:  0.668717948718 for [2, 'modified_huber', (1, 3), 1000]\n",
      "f1 score:  0.625118035883 for [2, 'modified_huber', (1, 1), 500]\n",
      "f1 score:  0.580392156863 for [3, 'modified_huber', (1, 1), 500]\n",
      "f1 score:  0.570895522388 for [2, 'modified_huber', (1, 3), 500]\n",
      "f1 score:  0.566420664207 for [2, 'modified_huber', (1, 2), 500]\n",
      "Bottom 5\n",
      "f1 score:  0.478460128323 for [2, 'modified_huber', (1, 2), 200]\n",
      "f1 score:  0.476964769648 for [2, 'modified_huber', (1, 3), 200]\n",
      "f1 score:  0.433544303797 for [3, 'modified_huber', (1, 1), 200]\n",
      "f1 score:  0.421585160202 for [3, 'modified_huber', (1, 2), 200]\n",
      "f1 score:  0.416326530612 for [3, 'modified_huber', (1, 3), 200]\n"
     ]
    }
   ],
   "source": [
    "baseball_base = printF1(results)"
   ]
  },
  {
   "cell_type": "markdown",
   "metadata": {},
   "source": [
    "We can also try with other classes, e.g. Space"
   ]
  },
  {
   "cell_type": "code",
   "execution_count": 70,
   "metadata": {},
   "outputs": [
    {
     "name": "stdout",
     "output_type": "stream",
     "text": [
      "sci.space\n",
      "N gram = 1\n",
      "[(' space', 1087), (' orbit', 500), (' launch', 462), (' nasa', 384), (' satellit', 307), (' moon', 278), (' mission', 247), (' shuttl', 223), (' lunar', 216), (' henri', 193)]\n",
      "N gram = 2\n",
      "[(' the moon', 185), (' @ zoo.toronto.edu', 115), (' the space', 107), (' space station', 100), (' : space', 96), (' henri spencer', 94), (' nsmca @', 91), (' henri @', 90), (' prb @', 84), (' pat )', 84)]\n"
     ]
    }
   ],
   "source": [
    "getKeyWords(14,4)"
   ]
  },
  {
   "cell_type": "code",
   "execution_count": 71,
   "metadata": {
    "collapsed": true
   },
   "outputs": [],
   "source": [
    "space_key_words = ['the moon', ' nasa', ' space station', 'satellit', 'space shuttl', 'lunar landing']\n",
    "\n",
    "#Re-run with class 14, space\n",
    "results = ModifiedGridSearch(loss_functions, n_grams, max_features_options, ratio_range, 14, space_key_words)"
   ]
  },
  {
   "cell_type": "code",
   "execution_count": 72,
   "metadata": {},
   "outputs": [
    {
     "name": "stdout",
     "output_type": "stream",
     "text": [
      "Top 10\n",
      "f1 score:  0.70725388601 for [2, 'modified_huber', (1, 1), 1000]\n",
      "f1 score:  0.684563758389 for [2, 'modified_huber', (1, 3), 1000]\n",
      "f1 score:  0.679194630872 for [2, 'modified_huber', (1, 2), 1000]\n",
      "f1 score:  0.667553191489 for [2, 'modified_huber', (1, 1), 500]\n",
      "f1 score:  0.65211062591 for [3, 'modified_huber', (1, 1), 1000]\n",
      "f1 score:  0.631892697466 for [3, 'modified_huber', (1, 2), 1000]\n",
      "f1 score:  0.62874251497 for [3, 'modified_huber', (1, 3), 1000]\n",
      "f1 score:  0.606488011283 for [2, 'modified_huber', (1, 2), 500]\n",
      "f1 score:  0.604255319149 for [2, 'modified_huber', (1, 3), 500]\n",
      "f1 score:  0.586552217454 for [2, 'modified_huber', (1, 1), 200]\n",
      "Bottom 5\n",
      "f1 score:  0.56346749226 for [3, 'modified_huber', (1, 2), 500]\n",
      "f1 score:  0.563218390805 for [2, 'modified_huber', (1, 3), 200]\n",
      "f1 score:  0.53023255814 for [3, 'modified_huber', (1, 2), 200]\n",
      "f1 score:  0.53023255814 for [3, 'modified_huber', (1, 3), 200]\n",
      "f1 score:  0.524844720497 for [3, 'modified_huber', (1, 1), 200]\n"
     ]
    }
   ],
   "source": [
    "space = printF1(results)"
   ]
  },
  {
   "cell_type": "code",
   "execution_count": 73,
   "metadata": {
    "collapsed": true
   },
   "outputs": [],
   "source": [
    "#Now get the baseline\n",
    "results = ModifiedGridSearch(loss_functions, n_grams, max_features_options, ratio_range, 14, leave_this_blank)"
   ]
  },
  {
   "cell_type": "code",
   "execution_count": 74,
   "metadata": {},
   "outputs": [
    {
     "name": "stdout",
     "output_type": "stream",
     "text": [
      "Top 10\n",
      "f1 score:  0.835978835979 for [3, 'modified_huber', (1, 1), 1000]\n",
      "f1 score:  0.816864295125 for [2, 'modified_huber', (1, 1), 1000]\n",
      "f1 score:  0.802614379085 for [2, 'modified_huber', (1, 2), 1000]\n",
      "f1 score:  0.798948751643 for [2, 'modified_huber', (1, 3), 1000]\n",
      "f1 score:  0.79679144385 for [3, 'modified_huber', (1, 3), 1000]\n",
      "f1 score:  0.795727636849 for [3, 'modified_huber', (1, 2), 1000]\n",
      "f1 score:  0.757697456493 for [2, 'modified_huber', (1, 1), 500]\n",
      "f1 score:  0.752317880795 for [3, 'modified_huber', (1, 1), 500]\n",
      "f1 score:  0.748663101604 for [3, 'modified_huber', (1, 3), 500]\n",
      "f1 score:  0.745308310992 for [2, 'modified_huber', (1, 3), 500]\n",
      "Bottom 5\n",
      "f1 score:  0.63202247191 for [3, 'modified_huber', (1, 2), 200]\n",
      "f1 score:  0.628853267571 for [2, 'modified_huber', (1, 1), 200]\n",
      "f1 score:  0.607866507747 for [2, 'modified_huber', (1, 3), 200]\n",
      "f1 score:  0.606420927467 for [2, 'modified_huber', (1, 2), 200]\n",
      "f1 score:  0.597364568082 for [3, 'modified_huber', (1, 3), 200]\n"
     ]
    }
   ],
   "source": [
    "space_base = printF1(results)"
   ]
  },
  {
   "cell_type": "markdown",
   "metadata": {},
   "source": [
    "Now try with middle east keywords"
   ]
  },
  {
   "cell_type": "code",
   "execution_count": 75,
   "metadata": {},
   "outputs": [
    {
     "name": "stdout",
     "output_type": "stream",
     "text": [
      "talk.politics.mideast\n",
      "N gram = 1\n",
      "[(' armenian', 1264), (' israel', 847), (' isra', 791), (' were', 734), (' turkish', 709), (' jew', 559), (' arab', 499), (' armenia', 363), (' turk', 361), (' kill', 333)]\n",
      "N gram = 2\n",
      "[(' | >', 621), (' the armenian', 486), (' , ``', 263), (' serdar argic', 245), (' the turkish', 241), (' > |', 225), (' they were', 214), (' the isra', 186), (' center for', 175), (\" . '\", 154)]\n"
     ]
    }
   ],
   "source": [
    "getKeyWords(17,4)"
   ]
  },
  {
   "cell_type": "code",
   "execution_count": 76,
   "metadata": {
    "collapsed": true
   },
   "outputs": [],
   "source": [
    "middle_east_key_words = [' israel', ' armenian', ' turkish', ' arab', ' jew', ' armenia', ' serdar argic']\n",
    "\n",
    "results = ModifiedGridSearch(loss_functions, n_grams, max_features_options, ratio_range, 17, middle_east_key_words)"
   ]
  },
  {
   "cell_type": "code",
   "execution_count": 77,
   "metadata": {},
   "outputs": [
    {
     "name": "stdout",
     "output_type": "stream",
     "text": [
      "Top 10\n",
      "f1 score:  0.741239892183 for [3, 'modified_huber', (1, 1), 500]\n",
      "f1 score:  0.733590733591 for [3, 'modified_huber', (1, 1), 1000]\n",
      "f1 score:  0.730870712401 for [2, 'modified_huber', (1, 2), 200]\n",
      "f1 score:  0.729194187583 for [2, 'modified_huber', (1, 3), 200]\n",
      "f1 score:  0.725034199726 for [3, 'modified_huber', (1, 3), 500]\n",
      "f1 score:  0.723055934516 for [3, 'modified_huber', (1, 2), 500]\n",
      "f1 score:  0.715953307393 for [2, 'modified_huber', (1, 1), 200]\n",
      "f1 score:  0.712328767123 for [3, 'modified_huber', (1, 1), 200]\n",
      "f1 score:  0.710327455919 for [3, 'modified_huber', (1, 3), 1000]\n",
      "f1 score:  0.71 for [3, 'modified_huber', (1, 2), 1000]\n",
      "Bottom 5\n",
      "f1 score:  0.625 for [2, 'modified_huber', (1, 3), 500]\n",
      "f1 score:  0.622317596567 for [2, 'modified_huber', (1, 2), 500]\n",
      "f1 score:  0.620618556701 for [2, 'modified_huber', (1, 1), 1000]\n",
      "f1 score:  0.595450049456 for [2, 'modified_huber', (1, 3), 1000]\n",
      "f1 score:  0.591355599214 for [2, 'modified_huber', (1, 2), 1000]\n"
     ]
    }
   ],
   "source": [
    "middle_east = printF1(results)"
   ]
  },
  {
   "cell_type": "code",
   "execution_count": 78,
   "metadata": {
    "collapsed": true
   },
   "outputs": [],
   "source": [
    "#And re-run it with no keywords\n",
    "results = ModifiedGridSearch(loss_functions, n_grams, max_features_options, ratio_range, 17, leave_this_blank)"
   ]
  },
  {
   "cell_type": "code",
   "execution_count": 79,
   "metadata": {},
   "outputs": [
    {
     "name": "stdout",
     "output_type": "stream",
     "text": [
      "Top 10\n",
      "f1 score:  0.816216216216 for [2, 'modified_huber', (1, 1), 1000]\n",
      "f1 score:  0.795731707317 for [3, 'modified_huber', (1, 3), 1000]\n",
      "f1 score:  0.792048929664 for [3, 'modified_huber', (1, 2), 1000]\n",
      "f1 score:  0.783532536521 for [2, 'modified_huber', (1, 2), 1000]\n",
      "f1 score:  0.781914893617 for [2, 'modified_huber', (1, 3), 1000]\n",
      "f1 score:  0.781538461538 for [3, 'modified_huber', (1, 1), 1000]\n",
      "f1 score:  0.769465648855 for [3, 'modified_huber', (1, 2), 500]\n",
      "f1 score:  0.768049155146 for [3, 'modified_huber', (1, 3), 500]\n",
      "f1 score:  0.753125 for [3, 'modified_huber', (1, 1), 500]\n",
      "f1 score:  0.742637644046 for [2, 'modified_huber', (1, 3), 500]\n",
      "Bottom 5\n",
      "f1 score:  0.726094003241 for [3, 'modified_huber', (1, 2), 200]\n",
      "f1 score:  0.725806451613 for [3, 'modified_huber', (1, 1), 200]\n",
      "f1 score:  0.676129032258 for [2, 'modified_huber', (1, 1), 200]\n",
      "f1 score:  0.675224646983 for [2, 'modified_huber', (1, 3), 200]\n",
      "f1 score:  0.668367346939 for [2, 'modified_huber', (1, 2), 200]\n"
     ]
    }
   ],
   "source": [
    "middle_east_base = printF1(results)"
   ]
  },
  {
   "cell_type": "markdown",
   "metadata": {},
   "source": [
    "So... its pretty clear from a range of tests that this technique does not work. In fact it produces about 10% worse accuracy, so that isn't very encouraging.\n",
    "\n",
    "Lets create a plot comparing accuracy of the method to baseline."
   ]
  },
  {
   "cell_type": "code",
   "execution_count": 93,
   "metadata": {},
   "outputs": [
    {
     "data": {
      "image/png": "[encoded data removed]",
      "text/plain": [
       "<matplotlib.figure.Figure at 0x7f9a80e177b8>"
      ]
     },
     "metadata": {},
     "output_type": "display_data"
    }
   ],
   "source": [
    "plt.figure(figsize=(14,9))\n",
    "\n",
    "labels = ['Baseball', 'Space', 'Middle East']\n",
    "\n",
    "plt.bar(1, baseball_base, color = 'b', label = 'Baseline')\n",
    "plt.bar(1, baseball, color = 'r', label = 'Augmented')\n",
    "\n",
    "plt.bar(2, space_base, color = 'b')\n",
    "plt.bar(2, space, color = 'r')\n",
    "\n",
    "plt.bar(3, middle_east_base, color = 'b')\n",
    "plt.bar(3, middle_east, color = 'r')\n",
    "\n",
    "plt.xticks([1,2,3], labels)\n",
    "\n",
    "title = \"Training augmentation vs. baseline classifier preformance\"\n",
    "plt.title(title, fontsize=15)\n",
    "plt.ylabel(\"F1 Scores\", fontsize=15)\n",
    "plt.xlabel(\"Class Category\", fontsize=14)\n",
    "\n",
    "plt.tick_params(labelsize=14) \n",
    "\n",
    "plt.legend(prop={'size': 14})\n",
    "plt.show()"
   ]
  },
  {
   "cell_type": "markdown",
   "metadata": {},
   "source": [
    "The next technique I will explore involves choosing a classifier with very good precision, and preferably good recall. I've printed above, the results sorted by precision, and the top one looks promising, but i'll do a more thorough search."
   ]
  },
  {
   "cell_type": "code",
   "execution_count": 94,
   "metadata": {},
   "outputs": [
    {
     "name": "stdout",
     "output_type": "stream",
     "text": [
      "25 / 192\n",
      "50 / 192\n",
      "75 / 192\n",
      "100 / 192\n",
      "125 / 192\n",
      "150 / 192\n",
      "175 / 192\n"
     ]
    }
   ],
   "source": [
    "#Redefine the search criteria\n",
    "loss_functions = ['modified_huber','hinge'] \n",
    "n_grams = [(1,1),(1,2),(1,3)]\n",
    "max_features_options = [200, 500, 1000, None]  \n",
    "ratio_range = [2,10]  \n",
    "\n",
    "#And re-run it with notably no key words!\n",
    "results = ModifiedGridSearch(loss_functions, n_grams, max_features_options, ratio_range, 17, leave_this_blank)"
   ]
  },
  {
   "cell_type": "code",
   "execution_count": 95,
   "metadata": {},
   "outputs": [
    {
     "name": "stdout",
     "output_type": "stream",
     "text": [
      "Top 10\n",
      "prescision score:  1.0 for [5, 'hinge', (1, 2), None] recall:  0.582446808511\n",
      "prescision score:  1.0 for [6, 'modified_huber', (1, 2), None] recall:  0.627659574468\n",
      "prescision score:  1.0 for [6, 'hinge', (1, 2), None] recall:  0.563829787234\n",
      "prescision score:  1.0 for [6, 'hinge', (1, 3), None] recall:  0.553191489362\n",
      "prescision score:  1.0 for [7, 'hinge', (1, 2), None] recall:  0.529255319149\n",
      "prescision score:  1.0 for [7, 'hinge', (1, 3), None] recall:  0.523936170213\n",
      "prescision score:  1.0 for [8, 'modified_huber', (1, 2), None] recall:  0.577127659574\n",
      "prescision score:  1.0 for [8, 'hinge', (1, 1), None] recall:  0.542553191489\n",
      "prescision score:  1.0 for [8, 'hinge', (1, 2), 200] recall:  0.125\n",
      "prescision score:  1.0 for [8, 'hinge', (1, 2), None] recall:  0.502659574468\n"
     ]
    }
   ],
   "source": [
    "printPR(results)"
   ]
  },
  {
   "cell_type": "markdown",
   "metadata": {},
   "source": [
    "Finding a balance above seems to be - prescision score:  0.989323843416 for [3, 'modified_huber', (1, 1), None] recall:  0.739361702128,  since all the precision scores are very high, and this one has the highest recall."
   ]
  },
  {
   "cell_type": "code",
   "execution_count": 125,
   "metadata": {
    "collapsed": true
   },
   "outputs": [],
   "source": [
    "#Define the classifier with the settings found above,\n",
    "text_clf = Pipeline([('vect', CountVectorizer(ngram_range=(1,1), max_features=None)),('tfidf', TfidfTransformer()),\n",
    "                             ('clf', SGDClassifier(loss='modified_huber', penalty='l2', alpha=1e-3,\n",
    "                               random_state=22, max_iter=5))])"
   ]
  },
  {
   "cell_type": "code",
   "execution_count": 126,
   "metadata": {
    "collapsed": true
   },
   "outputs": [],
   "source": [
    "#Test with class 17\n",
    "y_test = create_test_labels(17, twenty_test.target)\n",
    "X_train, y_train = create_train_set(17, 5, twenty_train_data_proc, twenty_train.target)"
   ]
  },
  {
   "cell_type": "code",
   "execution_count": 127,
   "metadata": {},
   "outputs": [
    {
     "name": "stdout",
     "output_type": "stream",
     "text": [
      "(0.82737169517884923, 0.99625468164794007, 0.70744680851063835)\n"
     ]
    }
   ],
   "source": [
    "#Confirm that it works\n",
    "print(get_metrics(text_clf, X_train, twenty_test_data_proc, y_train, y_test))"
   ]
  },
  {
   "cell_type": "code",
   "execution_count": 128,
   "metadata": {
    "collapsed": true
   },
   "outputs": [],
   "source": [
    "#Lets test this on a small subset\n",
    "predict = text_clf.predict(corpus[:6000000])"
   ]
  },
  {
   "cell_type": "code",
   "execution_count": 129,
   "metadata": {
    "collapsed": true
   },
   "outputs": [],
   "source": [
    "predict_posts = []\n",
    "\n",
    "#Go through and see which posts were labelled 1 by the classifier\n",
    "for num in range(len(predict)):\n",
    "    if (predict[num] == 1):\n",
    "        predict_posts.append(corpus[num])"
   ]
  },
  {
   "cell_type": "code",
   "execution_count": 130,
   "metadata": {},
   "outputs": [
    {
     "data": {
      "text/plain": [
       "2456"
      ]
     },
     "execution_count": 130,
     "metadata": {},
     "output_type": "execute_result"
    }
   ],
   "source": [
    "#Lets see how many it found,\n",
    "len(predict_posts)"
   ]
  },
  {
   "cell_type": "code",
   "execution_count": 131,
   "metadata": {
    "collapsed": true
   },
   "outputs": [],
   "source": [
    "for line in predict_posts:\n",
    "    X_train.append(line)\n",
    "    y_train.append(1)"
   ]
  },
  {
   "cell_type": "code",
   "execution_count": 132,
   "metadata": {},
   "outputs": [
    {
     "data": {
      "text/plain": [
       "(0.8179012345679012, 0.97426470588235292, 0.70478723404255317)"
      ]
     },
     "execution_count": 132,
     "metadata": {},
     "output_type": "execute_result"
    }
   ],
   "source": [
    "text_clf.fit(X_train, y_train)\n",
    "\n",
    "#And lastly take a look at the metrics\n",
    "get_metrics(text_clf, X_train, X_test, y_train, y_test)"
   ]
  },
  {
   "cell_type": "markdown",
   "metadata": {},
   "source": [
    "Interesting so, the performance stays at around the same accuracy, and seems to be kind of working."
   ]
  },
  {
   "cell_type": "markdown",
   "metadata": {},
   "source": [
    "I will print out a few of the predicted posts to confirm this..."
   ]
  },
  {
   "cell_type": "code",
   "execution_count": 134,
   "metadata": {},
   "outputs": [
    {
     "name": "stdout",
     "output_type": "stream",
     "text": [
      "[' the un clear has a serious problem with israel .', ' they have the stronger militari , the stronger alli , more money , more resourc , and a valid reason to do just about anyth given the palestinian and their elect govern continu terror and act of war against the state of israel .', ' student and professor who use hate anti-jewish rhetor and imageri , who activ promot the dismantl of the jewish state , and who support terror against jew , do act to creat a hostil and threaten environ for mani jewish student , some of whom report at time feel physic unsaf , emot and intellectu harass and intimid by peer and professor , isol from their fellow student , and unfair treat by faculti and administr .', ' yeah that and they specif massacr jew in know jewish town that had been there centuri before .', ' you have all been post exampl of isra protest in support of palestinian .', \" dude.. you did n't get what he 's tri to say.. yes muslim countri in general seem the culprit and are the culprit.. but israel-palestin histori is way way different.. if you just look at general histori of israel-palestin , you ll find israel at fault..\", ' regard the settlement , just 26 percent of even liber jew think israel should dismantl all of them ; among moder , the figur drop to 10 percent .', ' islam is arab cultur forc onto non-arab , so of cours it is a bad thing for non-arab when muslim men ( and women ) are the vanguard of arab cultur hegemoni .', \" that 's not a turkey .\", ' child soldier are rais and forc to kill .']\n"
     ]
    }
   ],
   "source": [
    "print(predict_posts[500:510])"
   ]
  },
  {
   "cell_type": "markdown",
   "metadata": {},
   "source": [
    "These actually seem fairly accuracte, I wonder what will happen if we search using this new classifier on another 600,000."
   ]
  },
  {
   "cell_type": "code",
   "execution_count": 136,
   "metadata": {
    "collapsed": true
   },
   "outputs": [],
   "source": [
    "predict = text_clf.predict(corpus[6000000:12000000])"
   ]
  },
  {
   "cell_type": "code",
   "execution_count": 137,
   "metadata": {
    "collapsed": true
   },
   "outputs": [],
   "source": [
    "predict_posts = []\n",
    "\n",
    "#Go through and see which posts were labelled 1 by the classifier\n",
    "for num in range(len(predict)):\n",
    "    if (predict[num] == 1):\n",
    "        predict_posts.append(corpus[num+600000])"
   ]
  },
  {
   "cell_type": "code",
   "execution_count": 138,
   "metadata": {},
   "outputs": [
    {
     "data": {
      "text/plain": [
       "618332"
      ]
     },
     "execution_count": 138,
     "metadata": {},
     "output_type": "execute_result"
    }
   ],
   "source": [
    "#Lets see how many it found,\n",
    "len(predict_posts)"
   ]
  },
  {
   "cell_type": "code",
   "execution_count": 139,
   "metadata": {
    "collapsed": true
   },
   "outputs": [],
   "source": [
    "for line in predict_posts:\n",
    "    X_train.append(line)\n",
    "    y_train.append(1)"
   ]
  },
  {
   "cell_type": "code",
   "execution_count": 140,
   "metadata": {},
   "outputs": [
    {
     "data": {
      "text/plain": [
       "(0.095105602630580502, 0.049926968530075687, 1.0)"
      ]
     },
     "execution_count": 140,
     "metadata": {},
     "output_type": "execute_result"
    }
   ],
   "source": [
    "text_clf.fit(X_train, y_train)\n",
    "\n",
    "get_metrics(text_clf, X_train, X_test, y_train, y_test)"
   ]
  },
  {
   "cell_type": "markdown",
   "metadata": {},
   "source": [
    "Hmm something definitly went wrong that second time, it seems the approach doesn't do very well with the train-retrain method"
   ]
  }
 ],
 "metadata": {
  "kernelspec": {
   "display_name": "Python 3",
   "language": "python",
   "name": "python3"
  },
  "language_info": {
   "codemirror_mode": {
    "name": "ipython",
    "version": 3
   },
   "file_extension": ".py",
   "mimetype": "text/x-python",
   "name": "python",
   "nbconvert_exporter": "python",
   "pygments_lexer": "ipython3",
   "version": "3.6.1"
  }
 },
 "nbformat": 4,
 "nbformat_minor": 2
}
