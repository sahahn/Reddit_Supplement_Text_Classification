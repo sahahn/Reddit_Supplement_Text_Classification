{
 "cells": [
  {
   "cell_type": "code",
   "execution_count": null,
   "metadata": {
    "collapsed": true
   },
   "outputs": [],
   "source": [
    "import nltk\n",
    "import pickle"
   ]
  },
  {
   "cell_type": "markdown",
   "metadata": {},
   "source": [
    "This file is dedicated to reading in the various datasets, converting everything to lowercase sentences, and stemming each word, then lastly saving the output as a pickeled file. I choose to pickle the files instead of save as plain txt for ease of use throughout the rest of the project, though I recognize it may be a controversial choice..."
   ]
  },
  {
   "cell_type": "code",
   "execution_count": null,
   "metadata": {
    "collapsed": true
   },
   "outputs": [],
   "source": [
    "from nltk.stem.snowball import SnowballStemmer\n",
    "stemmer = SnowballStemmer(\"english\", ignore_stopwords=True)  #Since well... english is the scope here, and lets ignore stopwords"
   ]
  },
  {
   "cell_type": "code",
   "execution_count": null,
   "metadata": {
    "collapsed": true
   },
   "outputs": [],
   "source": [
    "def preprocessing(text_array):\n",
    "    '''Takes in an array and returns another array of preprocessed sentences'''\n",
    "    sentences = []\n",
    "\n",
    "    for line in text_array:\n",
    "        sent_text = nltk.sent_tokenize(line)\n",
    "\n",
    "        for sent in sent_text:\n",
    "            words = nltk.word_tokenize(sent.lower())\n",
    "\n",
    "            sentence = \"\"\n",
    "\n",
    "            for word in words:\n",
    "                word = stemmer.stem(word)\n",
    "\n",
    "                sentence = sentence + \" \" + word\n",
    "\n",
    "            sentences.append(sentence)\n",
    "            \n",
    "    return sentences"
   ]
  },
  {
   "cell_type": "code",
   "execution_count": null,
   "metadata": {
    "collapsed": true
   },
   "outputs": [],
   "source": [
    "read_paths = [\"data/courseraBlogs.txt\",\"data/courseraNews.txt\", \"data/courseraTwitter.txt\"]\n",
    "\n",
    "\n",
    "posts = []\n",
    "for path in read_paths:\n",
    "    with open(path, 'r') as f:\n",
    "        posts = f.readlines()\n",
    "        \n",
    "    sentences = preprocessing(posts)\n",
    "    \n",
    "    write_path = path.rstrip('.txt')\n",
    "    write_path = write_path + \"Proc.pkl\"\n",
    "    \n",
    "    with open(write_path, 'wb') as fp:\n",
    "        pickle.dump(sentences, fp)"
   ]
  },
  {
   "cell_type": "markdown",
   "metadata": {},
   "source": [
    " "
   ]
  },
  {
   "cell_type": "code",
   "execution_count": null,
   "metadata": {
    "collapsed": true
   },
   "outputs": [],
   "source": [
    "#Do the same for the redditTextBlocks\n",
    "read_paths = ['data/redditTextBlock1.pkl','data/redditTextBlock2.pkl']\n",
    "\n",
    "posts = []\n",
    "    \n",
    "for path in read_paths:\n",
    "    with open(path, 'rb') as fp:\n",
    "        posts = pickle.load(fp)\n",
    "        \n",
    "    sentences = preprocessing(posts)\n",
    "    \n",
    "    write_path = path.rstrip('.pkl')\n",
    "    write_path = write_path + \"Proc.pkl\"\n",
    "    \n",
    "    with open(write_path, 'wb') as fp:\n",
    "        pickle.dump(sentences, fp)"
   ]
  }
 ],
 "metadata": {
  "kernelspec": {
   "display_name": "Python 3",
   "language": "python",
   "name": "python3"
  },
  "language_info": {
   "codemirror_mode": {
    "name": "ipython",
    "version": 3
   },
   "file_extension": ".py",
   "mimetype": "text/x-python",
   "name": "python",
   "nbconvert_exporter": "python",
   "pygments_lexer": "ipython3",
   "version": "3.6.1"
  }
 },
 "nbformat": 4,
 "nbformat_minor": 2
}
