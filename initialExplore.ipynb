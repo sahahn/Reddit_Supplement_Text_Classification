{
 "cells": [
  {
   "cell_type": "markdown",
   "metadata": {},
   "source": [
    "Sage Hahn\n",
    "\n",
    "**Data Science Final Project**\n",
    "\n",
    "An initial data exploration into the redditTextBlocks without any prior pre-processing. The main goal is to test how the ratio of subject X to not subject X affects training a classifier."
   ]
  },
  {
   "cell_type": "code",
   "execution_count": 1,
   "metadata": {
    "collapsed": true
   },
   "outputs": [],
   "source": [
    "import os\n",
    "import pickle\n",
    "import sklearn\n",
    "from sklearn.naive_bayes import MultinomialNB\n",
    "from sklearn.linear_model import SGDClassifier\n",
    "from sklearn.feature_extraction.text import CountVectorizer\n",
    "from sklearn.feature_extraction.text import TfidfTransformer\n",
    "from sklearn.pipeline import Pipeline\n",
    "from sklearn.metrics import classification_report"
   ]
  },
  {
   "cell_type": "code",
   "execution_count": 2,
   "metadata": {
    "collapsed": true
   },
   "outputs": [],
   "source": [
    "read_path = 'data/redditTextBlock1.pkl'\n",
    "\n",
    "#Read in the first post chunk\n",
    "posts = []\n",
    "with open(read_path, 'rb') as fp:\n",
    "    posts = pickle.load(fp)"
   ]
  },
  {
   "cell_type": "code",
   "execution_count": 3,
   "metadata": {
    "collapsed": true
   },
   "outputs": [],
   "source": [
    "#Very basic pre-processing at this step, just lowercase\n",
    "#Later on could try something like stemming or tokenizing very early\n",
    "for i in range(len(posts)):\n",
    "    posts[i] = posts[i].lower()"
   ]
  },
  {
   "cell_type": "code",
   "execution_count": 4,
   "metadata": {},
   "outputs": [
    {
     "data": {
      "text/plain": [
       "3388"
      ]
     },
     "execution_count": 4,
     "metadata": {},
     "output_type": "execute_result"
    }
   ],
   "source": [
    "#Store all instances of class X in the topic array\n",
    "topic_array = []\n",
    "\n",
    "#Lets test a simple example with some key words about say fishing\n",
    "key_words = ['fishing', 'caught fish', 'catching fish']\n",
    "\n",
    "for line in posts:\n",
    "    for key in key_words:\n",
    "        if key in line:\n",
    "            topic_array.append(line)\n",
    "            \n",
    "len(topic_array)"
   ]
  },
  {
   "cell_type": "markdown",
   "metadata": {},
   "source": [
    "Alright interesting, the basic key word search found 3388 instances for fishing, though this is of course out of 10 million posts. It is probally safe to say that there are more posts about fishing... but this is a good start."
   ]
  },
  {
   "cell_type": "code",
   "execution_count": 5,
   "metadata": {},
   "outputs": [
    {
     "data": {
      "text/plain": [
       "16939"
      ]
     },
     "execution_count": 5,
     "metadata": {},
     "output_type": "execute_result"
    }
   ],
   "source": [
    "#Let's initialize an array of not topic X, to use with the classifier.\n",
    "not_topic = []\n",
    "\n",
    "#The other number to play arround with is how many examples of not_topic to use,\n",
    "#lets start with 5 times the amount.\n",
    "numNotX = len(topic_array) * 5\n",
    "\n",
    "for line in posts[:numNotX]:\n",
    "    \n",
    "    #Note: not the most effecient code, but should be fine on this scale\n",
    "    if line not in topic_array:\n",
    "        not_topic.append(line)\n",
    "        \n",
    "len(not_topic)"
   ]
  },
  {
   "cell_type": "markdown",
   "metadata": {},
   "source": [
    "Alright now we have two arrays, one about fishing, and one 5 times larger not about fishing, lets now try a basic sklearn pipeline and text classifier on the data."
   ]
  },
  {
   "cell_type": "code",
   "execution_count": 6,
   "metadata": {
    "collapsed": true
   },
   "outputs": [],
   "source": [
    "#Declare the pipeline/classifier\n",
    "classifier = Pipeline([('vect', CountVectorizer()), ('tfidf', TfidfTransformer()),\n",
    "                               ('clf', SGDClassifier(loss='hinge', penalty='l2', alpha=1e-3, max_iter=10)),])"
   ]
  },
  {
   "cell_type": "code",
   "execution_count": 7,
   "metadata": {
    "collapsed": true
   },
   "outputs": [],
   "source": [
    "#Combine the arrays in X, and add class values in y, 1 for about topic, 0 for not.\n",
    "X = []\n",
    "y = []\n",
    "\n",
    "for line in topic_array:\n",
    "    X.append(line)\n",
    "    y.append(1)\n",
    "    \n",
    "for line in not_topic:\n",
    "    X.append(line)\n",
    "    y.append(0)"
   ]
  },
  {
   "cell_type": "code",
   "execution_count": 8,
   "metadata": {},
   "outputs": [
    {
     "data": {
      "text/plain": [
       "Pipeline(memory=None,\n",
       "     steps=[('vect', CountVectorizer(analyzer='word', binary=False, decode_error='strict',\n",
       "        dtype=<class 'numpy.int64'>, encoding='utf-8', input='content',\n",
       "        lowercase=True, max_df=1.0, max_features=None, min_df=1,\n",
       "        ngram_range=(1, 1), preprocessor=None, stop_words=None,\n",
       "        strip...='l2', power_t=0.5, random_state=None,\n",
       "       shuffle=True, tol=None, verbose=0, warm_start=False))])"
      ]
     },
     "execution_count": 8,
     "metadata": {},
     "output_type": "execute_result"
    }
   ],
   "source": [
    "#Fit the classifier\n",
    "classifier.fit(X,y)"
   ]
  },
  {
   "cell_type": "code",
   "execution_count": 9,
   "metadata": {
    "collapsed": true
   },
   "outputs": [],
   "source": [
    "#Now use the classifier on the chunk of posts, lets try just the first million\n",
    "predict = classifier.predict(posts[:1000000])"
   ]
  },
  {
   "cell_type": "markdown",
   "metadata": {},
   "source": [
    "Note just using a million for now because higher numbers take too long, and this is just an initial data exploration"
   ]
  },
  {
   "cell_type": "code",
   "execution_count": 10,
   "metadata": {},
   "outputs": [
    {
     "data": {
      "text/plain": [
       "213"
      ]
     },
     "execution_count": 10,
     "metadata": {},
     "output_type": "execute_result"
    }
   ],
   "source": [
    "predict_posts = []\n",
    "\n",
    "#Go through and see which posts were labelled 1 by the classifier\n",
    "for num in range(len(predict)):\n",
    "    if (predict[num] == 1):\n",
    "        predict_posts.append(posts[num])\n",
    "\n",
    "len(predict_posts)"
   ]
  },
  {
   "cell_type": "markdown",
   "metadata": {},
   "source": [
    "210... Alright so that's a pretty small number, though we used only 1/10 of the dataset, assuming that number remains the same, in the whole dataset it would find ~2100, vs. the 3388 found by just a keyword search. Also at this point we can note there have been a few key variables, the first is how much data we use in not_topic, and the second being how the pipeline and classifier is setup. For now lets examine how the first relationship plays out between ratio of X to not X."
   ]
  },
  {
   "cell_type": "code",
   "execution_count": 11,
   "metadata": {
    "collapsed": true
   },
   "outputs": [],
   "source": [
    "#Lets write a function, not a complete one, we'll assume posts is global, and a few other things (the classifier),\n",
    "#The purpose of the function just to automate the process we just went through\n",
    "def predictor(input_array, notXRatio):\n",
    "    \n",
    "    \n",
    "    #Init not topic\n",
    "    not_topic = []\n",
    "\n",
    "    #Set based on ratio\n",
    "    numNotX = len(input_array) * notXRatio\n",
    "\n",
    "    for line in posts[:numNotX]:\n",
    "    \n",
    "        if line not in input_array:\n",
    "            not_topic.append(line)\n",
    "            \n",
    "    #Combine the arrays in X, and add class values in y, 1 for about topic, 0 for not.\n",
    "    X = []\n",
    "    y = []\n",
    "\n",
    "    for line in input_array:\n",
    "        X.append(line)\n",
    "        y.append(1)\n",
    "\n",
    "    for line in not_topic:\n",
    "        X.append(line)\n",
    "        y.append(0)\n",
    "        \n",
    "    #Fit the classifier\n",
    "    classifier.fit(X,y)\n",
    "    \n",
    "    #Now use the classifier on the chunk of posts, lets try just the first million\n",
    "    predict = classifier.predict(posts[:1000000])\n",
    "    \n",
    "    predict_posts = []\n",
    "\n",
    "    #Go through and see which posts were labelled 1 by the classifier\n",
    "    for num in range(len(predict)):\n",
    "        if (predict[num] == 1):\n",
    "            predict_posts.append(posts[num])\n",
    "\n",
    "    return (predict_posts)"
   ]
  },
  {
   "cell_type": "markdown",
   "metadata": {},
   "source": [
    "Alright with a copy of the steps from above in a function we can explore how the number changes with different ratios, and different keyword searches, note at this point were not even concerned with the actual results were getting just the number."
   ]
  },
  {
   "cell_type": "code",
   "execution_count": 12,
   "metadata": {
    "collapsed": true
   },
   "outputs": [],
   "source": [
    "#Create a 'reduced' topic array, of posts found by keyword search in only the first million,\n",
    "reduced_topic_array = []\n",
    "\n",
    "for line in posts[:1000000]:\n",
    "    for key in key_words:\n",
    "        if key in line:\n",
    "            reduced_topic_array.append(line)"
   ]
  },
  {
   "cell_type": "code",
   "execution_count": 13,
   "metadata": {},
   "outputs": [
    {
     "name": "stdout",
     "output_type": "stream",
     "text": [
      "313\n",
      "95946 with ratio:  1\n",
      "301 overlap with  reduced topic_array\n",
      "18138 with ratio:  2\n",
      "284 overlap with  reduced topic_array\n",
      "1372 with ratio:  3\n",
      "237 overlap with  reduced topic_array\n",
      "260 with ratio:  4\n",
      "172 overlap with  reduced topic_array\n",
      "210 with ratio:  5\n",
      "146 overlap with  reduced topic_array\n",
      "184 with ratio:  6\n",
      "133 overlap with  reduced topic_array\n",
      "158 with ratio:  7\n",
      "122 overlap with  reduced topic_array\n",
      "134 with ratio:  8\n",
      "112 overlap with  reduced topic_array\n",
      "126 with ratio:  9\n",
      "111 overlap with  reduced topic_array\n",
      "117 with ratio:  10\n",
      "107 overlap with  reduced topic_array\n",
      "105 with ratio:  11\n",
      "99 overlap with  reduced topic_array\n",
      "98 with ratio:  12\n",
      "93 overlap with  reduced topic_array\n",
      "94 with ratio:  13\n",
      "89 overlap with  reduced topic_array\n",
      "88 with ratio:  14\n",
      "84 overlap with  reduced topic_array\n",
      "82 with ratio:  15\n",
      "79 overlap with  reduced topic_array\n"
     ]
    }
   ],
   "source": [
    "lengths = []\n",
    "ratios = []\n",
    "\n",
    "for x in range(1,16):\n",
    "    p_posts = predictor(topic_array, x)\n",
    "    \n",
    "    lengths.append(len(p_posts))\n",
    "    ratios.append(x)\n",
    "    \n",
    "    print(len(p_posts),\"with ratio: \", x)\n",
    "    \n",
    "    count = 0;\n",
    "    for line in p_posts:\n",
    "        if line in reduced_topic_array:\n",
    "            count += 1\n",
    "            \n",
    "    print(count, \"overlap with  reduced topic_array\")\n",
    "            "
   ]
  },
  {
   "cell_type": "code",
   "execution_count": 24,
   "metadata": {},
   "outputs": [
    {
     "data": {
      "image/png": "[encoded data removed]",
      "text/plain": [
       "<matplotlib.figure.Figure at 0x7fca4733b390>"
      ]
     },
     "metadata": {},
     "output_type": "display_data"
    }
   ],
   "source": [
    "import matplotlib.pyplot as plt\n",
    "\n",
    "#First plot the f1 ratios\n",
    "plt.plot(ratios,lengths)\n",
    "\n",
    "plt.axhline(y=len(reduced_topic_array), color='r', linestyle='dashed', label = \"Found by keyword\")\n",
    "\n",
    "title = \"Number of posts found over different ratios\"\n",
    "plt.title(title)\n",
    "plt.xlabel(\"Data Ratio\", fontsize=14)\n",
    "plt.ylabel(\"Posts Found\", fontsize=14)\n",
    "plt.yscale('log') \n",
    "\n",
    "plt.legend()\n",
    "\n",
    "plt.tick_params(labelsize=14) \n",
    "plt.show()"
   ]
  },
  {
   "cell_type": "code",
   "execution_count": 15,
   "metadata": {
    "collapsed": true
   },
   "outputs": [],
   "source": [
    "p_posts = predictor(topic_array, 4)"
   ]
  },
  {
   "cell_type": "markdown",
   "metadata": {},
   "source": [
    "After a little actually looking at the posts, 4 seems to be about where it is safe, and most of the posts seem to be about fishing. A ratio of 3 was... uh very very mixed. With that in mind 4 seems like a pretty safe place to keep the ratio hyperparameter as I start expirimenting with other pre-processing and classifier models.\n",
    "\n",
    "Also interestingly, the reduced overlap number tells us that we have almost 100 'new' results, note that the number tightens up as the ratio is increased, with ratio 12 for example, only 5 'new' results. This confirms a suspision of mine that the ratio can be used to trade off accuracy and percision."
   ]
  },
  {
   "cell_type": "code",
   "execution_count": 16,
   "metadata": {
    "collapsed": true
   },
   "outputs": [],
   "source": [
    "p_posts = predictor(topic_array, 15)"
   ]
  },
  {
   "cell_type": "code",
   "execution_count": 17,
   "metadata": {},
   "outputs": [
    {
     "data": {
      "text/plain": [
       "[\"so you weren't really asking a question but fishing for validation in your own thoughts?\",\n",
       " '    8/m \\n    kodiak, alaska\\n    hobbies include fishing, sleeping, staying warm and more fishing\\n    looking for a pretty, alpha female to mate with, potentially for more than one season.',\n",
       " \"thanks but not interested in fishing shiny's\\n\",\n",
       " 'why fish sharks in catherby when you can fish in the fishing guild?',\n",
       " 'shit i shoulda trained that instead of fishing',\n",
       " \"they're fishing sharks, and you're under the impression they're trying to be efficient.\",\n",
       " 'fishing for a complement is 1k tastes is 100.',\n",
       " \"no problem, it's much easier than fishing in the container to get equal meat and liquid\",\n",
       " \"i've only been fly fishing for a couple weeks and fly tying for about 5 days. \",\n",
       " \"it's like you're actually fishing for hatemail with the decapitate emote.\\n\\nvery good!\",\n",
       " 'i should probably start doing this. always feel stupid sitting on the bank trying to get the eye open so i can go back to fishing. ',\n",
       " 'is that like a fishing thing?',\n",
       " 'so this is obviously a hot chick fishing for compliments...but i love the user names posting comments!  ',\n",
       " 'anyone else going to start off the new year with some ice fishing tomorrow?',\n",
       " 'maybe fishing up some ice for my drink...',\n",
       " \"there's a few spots listed here: http://www.fishinginsydney.com/fishing-spots\\n\\n\",\n",
       " 'i got the fishing version called \"hook, line, and stinker\"',\n",
       " \"i'll go fishing...and screw the limit. \",\n",
       " 'is that marble rye? on a fishing line?',\n",
       " 'passionate fisherman. fishing saved my life (literally). i joined the united states coast guard to see some places and catch fish there. i have an apartment on the water (where the fishing sucks) and i fished less than a dozen times all year. i averaged that a month the last four years.  i have learned to keep profession and passion separate. it motivates me \"5 more hours and i can hit the water\".  ',\n",
       " \"i'd have a decent ranged level and a few levels of woodcutting, firemaking, and fishing. that's about it.\",\n",
       " 'you should go fishing.',\n",
       " 'fish',\n",
       " 'chain fishing',\n",
       " \"per capita? maybe i'm just fishing for something now \",\n",
       " \"check out westernbass.com tons of info, fishing reports and how to videos.  other than that i would suggest hiring a guide to show you first hand how to catch fish.  on the west coast there is no off season, it's a year round adventure.  although it may be tough fishing for largemouth bass during the winters lakes that have a healthy population of spotted bass tend to be hot spots during the colder months.  if you want to go out in january or february i'd suggest targeting a spotted bass lake and book a guide trip to learn to fish these lakes.\",\n",
       " 'one fish two fish, red fish blue fish.',\n",
       " 'from the picture, it looks like a deep sea fishing reel attached to a pencil.  i do consider a fishing rod one of my cheater items though.  i carry a four piece, six ft rod with a microlight reel.  all trout where i live, so i have been looking into investing in a lightweight tenkara rod though.  depends on what kind of fishing you are doing i guess.',\n",
       " \"isn't all fishing underwater? \",\n",
       " 'yes. but not all video footage of fishing is shot from underwater. ',\n",
       " 'i can give you the silver fishing rod for free, as long as i can come by your town instead of mine. :)',\n",
       " 'no. not what i was referring to: http://en.m.wikipedia.org/wiki/trolling_(fishing)',\n",
       " 'what i was referring to\\nhttp://en.m.wikipedia.org/wiki/trolling_(fishing)\\n',\n",
       " '#####&amp;#009;\\n\\n######&amp;#009;\\n\\n####&amp;#009;\\n [**trolling (fishing)**](https://en.wikipedia.org/wiki/trolling%20(fishing\\\\)): [](#sfw) \\n\\n---\\n\\n&gt;\\n\\n&gt;__trolling__ is a method of [fishing](https://en.wikipedia.org/wiki/fishing) where one or more [fishing lines](https://en.wikipedia.org/wiki/fishing_line), baited with [lures](https://en.wikipedia.org/wiki/fishing_lure) or [bait fish](https://en.wikipedia.org/wiki/bait_fish), are drawn through the water. this may be behind a moving boat, or by slowly winding the line in when fishing from a static position, or even sweeping the line from side-to-side, e.g. when fishing from a [jetty](https://en.wikipedia.org/wiki/jetty). trolling is used to catch [pelagic fish](https://en.wikipedia.org/wiki/pelagic_fish) such as salmon, [mackerel](https://en.wikipedia.org/wiki/mackerel) and [kingfish](https://en.wikipedia.org/wiki/king_mackerel).\\n\\n&gt;trolling can be phonetically confused with [trawling](https://en.wikipedia.org/wiki/trawling), a different method of fishing where a [net](https://en.wikipedia.org/wiki/fishing_net) (trawl) is drawn through the water instead of lines. trolling is used both for [recreational](https://en.wikipedia.org/wiki/recreational_fishing) and [commercial fishing](https://en.wikipedia.org/wiki/commercial_fishing) whereas trawling is used mainly for commercial fishing.\\n\\n&gt;trolling from a moving boat involves moving quite slowly through the water. this can be accomplished with the use of a special [trolling motor](https://en.wikipedia.org/wiki/trolling_motor). multiple lines are often used, and [outriggers](https://en.wikipedia.org/wiki/outrigger) can be used to spread the lines more widely and reduce their chances of tangling. [downriggers](https://en.wikipedia.org/wiki/downrigger) can also be used to keep the lures or baits trailing at a desired depth.\\n\\n&gt;====\\n\\n&gt;[**image**](https://i.imgur.com/kh6jsxb.jpg) [^(i)](https://commons.wikimedia.org/wiki/file:trolling_for_bluefish2.jpg) - *\"trolling for blue fish\" lithograph by currier &amp; ives, 1866.*\\n\\n---\\n\\n^interesting: [^handline ^fishing](https://en.wikipedia.org/wiki/handline_fishing) ^| [^fishing ^industry ^in ^palau](https://en.wikipedia.org/wiki/fishing_industry_in_palau) ^| [^clonk ^\\\\(fishing)](https://en.wikipedia.org/wiki/clonk_\\\\(fishing\\\\)) \\n\\n^parent ^commenter ^can [^toggle ^nsfw](/message/compose?to=autowikibot&amp;subject=autowikibot nsfw toggle&amp;message=%2btoggle-nsfw+cnaz10u) ^or[](#or) [^delete](/message/compose?to=autowikibot&amp;subject=autowikibot deletion&amp;message=%2bdelete+cnaz10u)^. ^will ^also ^delete ^on ^comment ^score ^of ^-1 ^or ^less. ^| [^(faqs)](http://www.np.reddit.com/r/autowikibot/wiki/index) ^| [^mods](http://www.np.reddit.com/r/autowikibot/comments/1x013o/for_moderators_switches_commands_and_css/) ^| [^magic ^words](http://www.np.reddit.com/r/autowikibot/comments/1ux484/ask_wikibot/)',\n",
       " 'why did you leave this awesome fishing area?!? ',\n",
       " 'i was fishing with my friend, he made a funny comment about something. anyway, i laughed very hard and puked into the water. ',\n",
       " '10:30 here. can confirm. wife asleep an hour ago. am fishing in wow.',\n",
       " 'is your fishing for points over yet?',\n",
       " 'fishing with kids is the absolute best.  reminds you to celebrate every catch. ',\n",
       " 'trolling is a fishing technique.',\n",
       " 'ah yes, the fishing guy who oversees all the other baiters. ',\n",
       " 'just fishing for dinner. /s',\n",
       " \"don't use any of these. was considering a fish pic, but only because i love fishing and was told here that i need more pics showing my interests. \",\n",
       " 'barsa! fish! fish! barsa! barsa! fish! fish! barsa barsa!',\n",
       " 'fishing. golf. playing music.',\n",
       " 'yeahhhhhhhhh buddie!\\n\\nno fishing, just fucking \"here\\'s me with my mug\" i like it\\n\\n',\n",
       " \"nice shot! if you don't mind me asking, what are the limits in kansas on this type of non-rod and reel fishing? \",\n",
       " \"game warden just told me to obey all bow fishing rules and regs. certain areas, a lot of places actually, don't allow bow fishing. been out of state a couple years nows, can't recall the speciffics.\",\n",
       " \"dat fishing line. i'm loving their new jokey attitude. :)\",\n",
       " \"elliott bay fishing pier?  or at least area 10?\\n\\nyou pretty much nailed the species.  \\n\\nrockfish: closed year-round to fishing in the puget sound region.  will get as bycatch when going for lingcods though since they inhabit the same area.\\n\\nlingcod: may to mid-june.  i have no clue how fishing for them is off that pier, but basically any large rocky outcropping ledge will hold some.  very aggressive and will strike at virtually anything you can get near their ambush spotst.  jigs, bait, whatever.\\n\\nsquid:  i've never done it, but this is a pretty popular time of the year as far as i know.  might have to drive a bit south to really get into them though.  squid jigs.\\n\\nsalmon:  you can try for a resident salmon at this time, but it's extremely difficult to find one - especially when not in a boat.  there are spring runs in rivers like the cowlitz in a few months, but they won't show up in the middle sound area until july(ish) then the various species will be around until novermber(ish).  mostly casting jigs, spoons, or spinners.  some people do cast out cut plug herring though.\\n\\ni've never done any pier fishing, so i don't really know the gear that will be suited for it.  with that said, if you want a general purpose rod that you can also use on rivers or from the beaches when salmon are running up close go with a ~9' baitcasting medium power.  throw on  40lb braid on your mainline and you can catch salmon, lings (the larger ones will be a challenge), or steelhead.\\n\\nspeaking of steelhead, them and sea-run cutthroats (catch and release only) are basically the only fisheries going on right now.  cutthroats are fun, especially on a fly rod, and can be found at virtually every rocky beach near a creek.  steelhead you'll have to drive out to a river.\\n\\nyou'll want to make sure to rinse off your reel after each time you go fishing in the saltwater.  and you'll probably want to pick up a pier fishing net.  they're basically this net on a rope you drop down and scoop your catch up in.  you'll also need to use single point barbless hooks (up to 2 on one line) for practically everything in the sound too.  that's the big thing game wardens ticket people for.\",\n",
       " \"there all playing you. i will only give you a 4.5 because you're fishing. \",\n",
       " 'voges gone fishing on that wide',\n",
       " 'or triangle to play the fishing minigame?',\n",
       " 'fishing or woodcutting while doing w/e else you enjoy doing :d',\n",
       " 'a fishing store.',\n",
       " \"it's like dad strength of fishing, you'll always lose regardless of your best spots or lures.\",\n",
       " 'looks like a fishing hole to me',\n",
       " 'water related stuff is fun; try surfing or fishing.',\n",
       " 'yea, good luck trying to go fishing on that.. ',\n",
       " 'you good at fishing?',\n",
       " \"&gt; give a man a fish, he'll eat for a day. teach a man to fish, he'll eat for the rest of his life, or however that saying goes.\\n\\nwon't work if he can't afford a fishing pole.\",\n",
       " \"pictured: thor's famous fishing trip with hymir.\",\n",
       " \"one fishing trip and you're hooked!\",\n",
       " 'what enchants does the fishing rod have',\n",
       " 'if you like the outdoors, fishing. then both of you can cook a nice dinner with what you catch.',\n",
       " 'go to amazon and look up neoprene ice fishing gloves, they are water proof and durable.',\n",
       " 'wish i could go fishing in shorts right now. ',\n",
       " \"nice fish! i'm fairly new to fishing so if you don't mind what did you catch this on?\",\n",
       " 'no. he was just fishing for a better deal. ',\n",
       " \"before the 'pocalypse, this was one of the best fishing towns in the world! maybe you'll catch a big one...\",\n",
       " 'no the stripper is going to be dancing on the fishing pole. while skippy waits for a fish to be caught. ',\n",
       " 'suggesting that someone do their own research is fishing for downvotes',\n",
       " \"when i was younger my dad had a bass boat, a boat he bought for him and his dad to fish together. after my grandpa died, dad took us out fishing, my brother and i, probably 8 and 9 years old at the time. we were out on the lake for an hour when i started feeling sick. dad got mildly upset and we left. i haven't been fishing with him since and he sold the boat due to inactivity.\\n\\nat that time, i didn't realize what it meant to him to take his sons fishing, especially after he had just lost his dad, but now, i would give anything to go back to that moment and do it right.\",\n",
       " 'gone fishing next pl0x?',\n",
       " 'i remember my first time out fishing at sea, caught a small yellow fish out of fucking no where giant fish comes out and takes my fish i nearly shat myself, i panicked so hard i pulled and broke the line.\\n\\nedit: the giant fucking fish was a brown grouper.',\n",
       " \"some people say you (as in the average recreational diver) shouldn't have knife because it might encourage you to use it for ecologically unsound things - especially cutting yourself souvenirs. the obvious counter-argument is, well, don't do that.\\n\\nthe main reason for having a knife is in case you get tangled in kelp or nets - if you (or your buddy) can't free yourself, you will drown. that's a pretty rare situation, and having to fight a hostile fish is rarer. so there isn't really much reason to carry a speargun for self-defence, but if you are actually planning to catch fish, doing it with a speargun is a lot more sustainable than almost any other form of fishing. mostly, recreational diving is about looking, not touching, and often takes place in sites which are marine reserves, so fishing isn't appropriate. on the other hand, in order to prevent over-fishing there are places where it's only permitted to spearfish.\",\n",
       " 'awww! good sleep is the best. and so cute that your fil is excited about fishing with baby :d',\n",
       " 'til people enchant fishing rods. i just fish em up.',\n",
       " \"that would be true, but i'm not the one fishing for likes . \\n\\nanyway, i'm off to play destiny. have a good one. \",\n",
       " \"the guards,in a moment of panic,steers the fishing boot to hit the merchant ship,they soon found out that they hurt their ship more then the merchant one.  \\nthe fishing boot begins to leak water,when the guards soon realize this,2 of them begins to try to move the leaking water back to the ocean.  \\n  \\n  \\nthe merchant crew sees this,they decide that this is the time to strike.  \\nthey decide to steer their ship until they can jump on the fishing boot safely. \\n  \\nonce into position, 2 of them are left to handle the ship while the remaining three board the fishing boot and deal with the thiefs,although outnumbered, they posses better equipment, and thus,they think that they can take them on. \\n  \\nmeanwhile on the fishing boot,the leak is becoming more and more dangerous, they soon realize that the boot will drawn soon,they then notice that the merchant ship is closing on to them,they then move into position,to intercept the boarding party. \\n  \\n  \\non the merchant ship,the three men threw a rope on the fishing boot,it catches on the fishing boot, the thief's begin to try and cut the rope but to no avail. \\nthe hoarding party then use the rope to jump on the fishing boot,with the three of them landing successfully on the fishing boot.  \\n  \\n  \\nthe guards then engage the three men in combat,they manage to kill them all after losing 4 men to their deadly knifes. \\n  \\n  \\nthe remaining crew on the merchant ship,furious by this turn of events,rams the sides of the fishing boot with  high speed velocity,destroying the fishing boot and taking the only surviving thief on the fishing boot back to the colony for interrogation.  \\n  \\n\\n  \\n  \\n\",\n",
       " 'they can keep it. i just got back from fishing in florida and i like the temp the way it is right now.']"
      ]
     },
     "execution_count": 17,
     "metadata": {},
     "output_type": "execute_result"
    }
   ],
   "source": [
    "p_posts"
   ]
  },
  {
   "cell_type": "code",
   "execution_count": null,
   "metadata": {
    "collapsed": true
   },
   "outputs": [],
   "source": []
  }
 ],
 "metadata": {
  "kernelspec": {
   "display_name": "Python 3",
   "language": "python",
   "name": "python3"
  },
  "language_info": {
   "codemirror_mode": {
    "name": "ipython",
    "version": 3
   },
   "file_extension": ".py",
   "mimetype": "text/x-python",
   "name": "python",
   "nbconvert_exporter": "python",
   "pygments_lexer": "ipython3",
   "version": "3.6.1"
  }
 },
 "nbformat": 4,
 "nbformat_minor": 2
}
