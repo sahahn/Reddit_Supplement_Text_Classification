{
 "cells": [
  {
   "cell_type": "markdown",
   "metadata": {},
   "source": [
    "Sage Hahn\n",
    "\n",
    "**Data Science Final Project**\n",
    "\n",
    "Preparing usable chunks of reddit data, from a large 20gb file of reddit posts."
   ]
  },
  {
   "cell_type": "code",
   "execution_count": 1,
   "metadata": {
    "collapsed": true
   },
   "outputs": [],
   "source": [
    "import os\n",
    "import json\n",
    "import pickle;"
   ]
  },
  {
   "cell_type": "markdown",
   "metadata": {},
   "source": [
    "Due to limited harddrive space, I am storing the 20gb of reddit data on a flashdrive seperately.\n",
    "The purpose of this script is to process chunks of this larger file into pickeled arrays, of only the text."
   ]
  },
  {
   "cell_type": "code",
   "execution_count": 2,
   "metadata": {
    "collapsed": true
   },
   "outputs": [],
   "source": [
    "#My path to flash drive location, NOTE: only using absolute path for this step to work w/ flashdrive\n",
    "read_path = \"/media/sage/05F475EF2B202B7B/RC_2015-01/RC_2015-01\""
   ]
  },
  {
   "cell_type": "code",
   "execution_count": 3,
   "metadata": {
    "collapsed": true
   },
   "outputs": [],
   "source": [
    "#Read only a chunk from the bigger file, 10 million posts\n",
    "start_index = 0\n",
    "end_index = 10000000\n",
    "\n",
    "post_array = []\n",
    "\n",
    "with open(read_path) as fin:\n",
    "    \n",
    "    for i in range(0,end_index):\n",
    "        post = json.loads(fin.readline())\n",
    "        \n",
    "        if i >= start_index:\n",
    "            post_array.append(post['body'])\n",
    "    "
   ]
  },
  {
   "cell_type": "code",
   "execution_count": 4,
   "metadata": {
    "collapsed": true
   },
   "outputs": [],
   "source": [
    "write_path = 'redditTextBlock1.pkl'\n",
    "with open(write_path, 'wb') as fp:\n",
    "    pickle.dump(post_array, fp)"
   ]
  },
  {
   "cell_type": "code",
   "execution_count": 6,
   "metadata": {
    "collapsed": true
   },
   "outputs": [],
   "source": [
    "post_array = []\n",
    "start_index = 10000001\n",
    "end_index = 20000000\n",
    "\n",
    "with open(read_path) as fin:\n",
    "    \n",
    "    for i in range(0,end_index):\n",
    "        post = json.loads(fin.readline())\n",
    "        \n",
    "        if i >= start_index:\n",
    "            post_array.append(post['body'])"
   ]
  },
  {
   "cell_type": "code",
   "execution_count": 7,
   "metadata": {
    "collapsed": true
   },
   "outputs": [],
   "source": [
    "write_path = 'redditTextBlock2.pkl'\n",
    "with open(write_path, 'wb') as fp:\n",
    "    pickle.dump(post_array, fp)"
   ]
  },
  {
   "cell_type": "code",
   "execution_count": null,
   "metadata": {
    "collapsed": true
   },
   "outputs": [],
   "source": [
    "#Example for reading back in\n",
    "posts = []\n",
    "with open(write_path, 'rb') as fp:\n",
    "    posts = pickle.load(fp)"
   ]
  }
 ],
 "metadata": {
  "kernelspec": {
   "display_name": "Python 3",
   "language": "python",
   "name": "python3"
  },
  "language_info": {
   "codemirror_mode": {
    "name": "ipython",
    "version": 3
   },
   "file_extension": ".py",
   "mimetype": "text/x-python",
   "name": "python",
   "nbconvert_exporter": "python",
   "pygments_lexer": "ipython3",
   "version": "3.6.1"
  }
 },
 "nbformat": 4,
 "nbformat_minor": 2
}
